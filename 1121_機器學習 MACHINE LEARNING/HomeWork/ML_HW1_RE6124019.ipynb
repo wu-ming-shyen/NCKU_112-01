{
 "cells": [
  {
   "cell_type": "markdown",
   "id": "b2450697",
   "metadata": {},
   "source": [
    "### https://www.kaggle.com/code/zubinrelia/car-insurance-claim-classifier"
   ]
  },
  {
   "cell_type": "markdown",
   "id": "0f315ac8",
   "metadata": {},
   "source": [
    "# 1. Import"
   ]
  },
  {
   "cell_type": "code",
   "execution_count": 1,
   "id": "5f587674",
   "metadata": {},
   "outputs": [],
   "source": [
    "import re\n",
    "import shap\n",
    "import random\n",
    "import numpy as np\n",
    "import pandas as pd\n",
    "import seaborn as sns\n",
    "import matplotlib.pyplot as plt\n",
    "\n",
    "from tqdm import tqdm"
   ]
  },
  {
   "cell_type": "markdown",
   "id": "2c3fdbfa",
   "metadata": {},
   "source": [
    "# 2. Preprocessing & Feature EDA"
   ]
  },
  {
   "cell_type": "code",
   "execution_count": 2,
   "id": "2fca9fff",
   "metadata": {
    "scrolled": true
   },
   "outputs": [],
   "source": [
    "df = pd.read_csv(\"archive/train.csv\")\n",
    "# df.head()"
   ]
  },
  {
   "cell_type": "code",
   "execution_count": 3,
   "id": "8fc9e673",
   "metadata": {},
   "outputs": [],
   "source": [
    "df=df.drop('policy_id', axis=1)"
   ]
  },
  {
   "cell_type": "code",
   "execution_count": 4,
   "id": "91360061",
   "metadata": {},
   "outputs": [],
   "source": [
    "df['torque'] = df['max_torque'].apply(lambda x: re.findall(r'\\d+\\.?\\d*(?=Nm)', x)[0])\n",
    "df['rpm'] = df['max_torque'].apply(lambda x: re.findall(r'\\d+\\.?\\d*(?=rpm)', x)[0])\n",
    "\n",
    "# Convert the columns to numeric data type\n",
    "df['torque'] = pd.to_numeric(df['torque'])\n",
    "df['rpm'] = pd.to_numeric(df['rpm'])\n",
    "\n",
    "# Calculate torque to RPM ratio \n",
    "df['torque_rpm'] = df['torque'] / df['rpm']"
   ]
  },
  {
   "cell_type": "code",
   "execution_count": 5,
   "id": "0d656b65",
   "metadata": {},
   "outputs": [],
   "source": [
    "# Deleting redundant columns from training set\n",
    "df.drop('max_torque', axis=1,inplace=True)\n",
    "df.drop('rpm',axis=1,inplace=True)\n",
    "df.drop('torque',axis=1,inplace=True)"
   ]
  },
  {
   "cell_type": "code",
   "execution_count": 6,
   "id": "9d927ae2",
   "metadata": {},
   "outputs": [],
   "source": [
    "df['power'] = df['max_power'].apply(lambda x: re.findall(r'\\d+\\.?\\d*(?=bhp)', x)[0])\n",
    "df['rpm'] = df['max_power'].apply(lambda x: re.findall(r'\\d+', x)[-1])\n",
    "\n",
    "# Convert the columns to numeric data type\n",
    "df['power'] = pd.to_numeric(df['power'])\n",
    "df['rpm'] = pd.to_numeric(df['rpm'])\n",
    "\n",
    "# Calculate power to RPM ratio\n",
    "df['power_rpm'] = df['power'] / df['rpm']"
   ]
  },
  {
   "cell_type": "code",
   "execution_count": 7,
   "id": "48639f65",
   "metadata": {},
   "outputs": [],
   "source": [
    "df.drop('power', axis=1,inplace=True)\n",
    "df.drop('rpm',axis=1,inplace=True)\n",
    "df.drop('max_power',axis=1,inplace=True)"
   ]
  },
  {
   "cell_type": "code",
   "execution_count": 8,
   "id": "7c463c41",
   "metadata": {},
   "outputs": [],
   "source": [
    "df = df.replace({ \"No\" : 0 , \"Yes\" : 1 })"
   ]
  },
  {
   "cell_type": "code",
   "execution_count": 9,
   "id": "e7f51323",
   "metadata": {},
   "outputs": [],
   "source": [
    "is_cols=[col for col in df.columns if col.startswith(\"is\") and col!=\"is_claim\"]"
   ]
  },
  {
   "cell_type": "code",
   "execution_count": 10,
   "id": "ee102dea",
   "metadata": {},
   "outputs": [],
   "source": [
    "dataset_num_col = df.select_dtypes(include=['int', 'float', 'bool']).columns"
   ]
  },
  {
   "cell_type": "code",
   "execution_count": 11,
   "id": "09ddab17",
   "metadata": {},
   "outputs": [],
   "source": [
    "dataset_cat_cols = df.select_dtypes(include=['object']).columns"
   ]
  },
  {
   "cell_type": "code",
   "execution_count": 12,
   "id": "8cc894cb",
   "metadata": {},
   "outputs": [],
   "source": [
    "df= pd.get_dummies(df, columns=dataset_cat_cols,drop_first=True)"
   ]
  },
  {
   "cell_type": "code",
   "execution_count": 13,
   "id": "281689ff",
   "metadata": {},
   "outputs": [],
   "source": [
    "df_0 = df[df['is_claim'] == 0].sample(n=5000, random_state=21)\n",
    "df_1 = df[df['is_claim'] == 1].sample(n=3000, random_state=21)\n",
    "\n",
    "df = pd.concat([df_0, df_1], ignore_index=True)"
   ]
  },
  {
   "cell_type": "code",
   "execution_count": 14,
   "id": "0353bab4",
   "metadata": {},
   "outputs": [],
   "source": [
    "df = df.sample(frac=1, random_state=42, ignore_index=True)"
   ]
  },
  {
   "cell_type": "code",
   "execution_count": 15,
   "id": "23f1cfa9",
   "metadata": {},
   "outputs": [],
   "source": [
    "_df = df.copy()"
   ]
  },
  {
   "cell_type": "code",
   "execution_count": 16,
   "id": "4525a2e0",
   "metadata": {
    "scrolled": true
   },
   "outputs": [],
   "source": [
    "def normalize(column):\n",
    "    min_val = column.min()\n",
    "    max_val = column.max()\n",
    "    normalized_column = (column - min_val) / (max_val - min_val)\n",
    "    return normalized_column\n",
    "\n",
    "for column in dataset_num_col:\n",
    "    df[column] = normalize(df[column])"
   ]
  },
  {
   "cell_type": "code",
   "execution_count": 17,
   "id": "e68b5a44",
   "metadata": {},
   "outputs": [],
   "source": [
    "# scale_dict = dict(enumerate(df.drop(columns = \"is_claim\").max() - df.drop(columns = \"is_claim\").min()))\n",
    "# scale_list = list(sorted(scale_dict, key=scale_dict.get))\n",
    "# print(scale_list)"
   ]
  },
  {
   "cell_type": "code",
   "execution_count": 18,
   "id": "c69f8d26",
   "metadata": {},
   "outputs": [],
   "source": [
    "# df.columns.get_indexer(dataset_num_col)"
   ]
  },
  {
   "cell_type": "code",
   "execution_count": 19,
   "id": "b75ed218",
   "metadata": {},
   "outputs": [],
   "source": [
    "X = df.drop(columns = \"is_claim\")\n",
    "y = df[\"is_claim\"]"
   ]
  },
  {
   "cell_type": "code",
   "execution_count": 20,
   "id": "26726026",
   "metadata": {},
   "outputs": [],
   "source": [
    "# from imblearn.combine import SMOTEENN \n",
    "# smt = SMOTEENN()\n",
    "# X, y = smt.fit_resample(X, y)"
   ]
  },
  {
   "cell_type": "code",
   "execution_count": 21,
   "id": "9c57222c",
   "metadata": {},
   "outputs": [],
   "source": [
    "# X_train = X.iloc[int(X.shape[0]*0.2):, :]\n",
    "# X_val = X.iloc[:int(X.shape[0]*0.2), :]\n",
    "# y_train = y[int(y.shape[0]*0.2):]\n",
    "# y_val = y[:int(y.shape[0]*0.2)]"
   ]
  },
  {
   "cell_type": "code",
   "execution_count": 22,
   "id": "a2bcff9b",
   "metadata": {},
   "outputs": [],
   "source": [
    "X_train = np.array(X.iloc[:int(X.shape[0]*0.8), :], dtype='float64')\n",
    "X_val = np.array(X.iloc[int(X.shape[0]-X.shape[0]*0.2):int(X.shape[0]-X.shape[0]*0.1), :], dtype='float64')\n",
    "X_test = np.array(X.iloc[-int(X.shape[0]*0.1):, :], dtype='float64')\n",
    "y_train = np.array(y[:int(X.shape[0]*0.8)], dtype='float64')\n",
    "y_val = np.array(y[int(X.shape[0]-X.shape[0]*0.2):int(X.shape[0]-X.shape[0]*0.1)], dtype='float64')\n",
    "y_test = np.array(y[-int(X.shape[0]*0.1):], dtype='float64')"
   ]
  },
  {
   "cell_type": "markdown",
   "id": "e388bf54",
   "metadata": {},
   "source": [
    "# 1 Classification Task:"
   ]
  },
  {
   "cell_type": "code",
   "execution_count": 23,
   "id": "9ab924c3",
   "metadata": {},
   "outputs": [],
   "source": [
    "acc_list = []\n",
    "f1_list = []"
   ]
  },
  {
   "cell_type": "markdown",
   "id": "83432c0e",
   "metadata": {},
   "source": [
    "## 1-1 Linear Classifier"
   ]
  },
  {
   "cell_type": "code",
   "execution_count": 24,
   "id": "62b9ad7d",
   "metadata": {
    "scrolled": false
   },
   "outputs": [],
   "source": [
    "class Perceptron:\n",
    "    def __init__(self, lr=0.1, eps=100):\n",
    "        self.lr = lr\n",
    "        self.eps = eps\n",
    "        self.w = None\n",
    "        self.b = None\n",
    "        self.Training = []\n",
    "        self.Validation = []\n",
    "\n",
    "    def fit(self, X_train, X_val, y_train, y_val):\n",
    "        num_samples, num_features = X_train.shape\n",
    "        self.w = np.zeros(num_features)\n",
    "        self.b = 0\n",
    "\n",
    "        for ep in tqdm(range(self.eps)):\n",
    "            y_pred = self.predict(X_train)\n",
    "            acc = self.accuracy(y_pred, y_train)\n",
    "            loss = self.loss(y_pred, y_train)\n",
    "            self.Training.append(loss)\n",
    "            \n",
    "            y_val_pred = self.predict(X_val)\n",
    "            acc_val = self.accuracy(y_val_pred, y_val)\n",
    "            loss_val = self.loss(y_val_pred, y_val)\n",
    "            self.Validation.append(loss_val)\n",
    "            \n",
    "            dw = (1 / num_samples) * np.dot(X_train.T, (y_pred - y_train))\n",
    "            db = (1 / num_samples) * np.sum(y_pred - y_train)\n",
    "\n",
    "            self.w = self.w - self.lr * dw\n",
    "            self.b = self.b - self.lr * db\n",
    "        print(f'Perceptron Accuracy: {acc}, Loss: {loss} ')\n",
    "\n",
    "    def predict(self, x):\n",
    "        lm = np.dot(x, self.w) + self.b\n",
    "        y_pred = self.sigmoid(lm)\n",
    "        return y_pred\n",
    "    \n",
    "    def accuracy(self, y_pred, y_true):\n",
    "        return np.sum((y_pred > 0.5).astype(int) == y_true) / len(y_true)\n",
    "    \n",
    "    def precision(self, y_pred, y_true):\n",
    "        true_positives = np.sum((y_pred > 0.5).astype(int) & (y_true == 1).astype(int))\n",
    "        false_positives = np.sum((y_pred > 0.5).astype(int) & (y_true == 0).astype(int))\n",
    "        return true_positives / (true_positives + false_positives)\n",
    "    \n",
    "    def recall(self, y_pred, y_true):\n",
    "        true_positives = np.sum((y_pred > 0.5).astype(int) & (y_true == 1).astype(int))\n",
    "        false_negatives = np.sum((y_pred <= 0.5).astype(int) & (y_true == 1).astype(int))\n",
    "        return true_positives / (true_positives + false_negatives)\n",
    "    \n",
    "    def f1_score(self, y_pred, y_true):\n",
    "        precision_value = self.precision(y_pred, y_true)\n",
    "        recall_value = self.recall(y_pred, y_true)\n",
    "        return 2 * (precision_value * recall_value) / (precision_value + recall_value)\n",
    "    \n",
    "    def loss(self, y_pred, y_true):\n",
    "        return np.mean(- (y_true * np.log(y_pred + 1e-15) + (1 - y_true) * np.log(1 - y_pred + 1e-15)))\n",
    "    \n",
    "    def sigmoid(self, x):\n",
    "        return 1 / (1 + np.exp(-x))\n",
    "    \n",
    "    def acc_loss_plot(self):\n",
    "        plt.plot(self.Training, label='Training', marker='o')\n",
    "        plt.plot(self.Validation, label='Validation', marker='x')\n",
    "        plt.title('Training and Validation Loss')\n",
    "        plt.xlabel('Epoch')\n",
    "        plt.ylabel('Value')\n",
    "        \n",
    "        plt.legend()\n",
    "        plt.show()"
   ]
  },
  {
   "cell_type": "code",
   "execution_count": 25,
   "id": "b2a7b0cf",
   "metadata": {
    "scrolled": false
   },
   "outputs": [
    {
     "name": "stderr",
     "output_type": "stream",
     "text": [
      "100%|████████████████████████████████████████████████████████████| 100/100 [00:00<00:00, 2777.83it/s]"
     ]
    },
    {
     "name": "stdout",
     "output_type": "stream",
     "text": [
      "Perceptron Accuracy: 0.62640625, Loss: 0.6555005633977021 \n"
     ]
    },
    {
     "name": "stderr",
     "output_type": "stream",
     "text": [
      "\n",
      "invalid value encountered in scalar divide\n"
     ]
    }
   ],
   "source": [
    "perceptron = Perceptron()\n",
    "perceptron.fit(X_train, X_val, y_train, y_val)\n",
    "# Train\n",
    "y_pred = perceptron.predict(X_train)\n",
    "accuracy = perceptron.accuracy(y_pred, y_train)\n",
    "# Val\n",
    "y_pred = perceptron.predict(X_val)\n",
    "accuracy = perceptron.accuracy(y_pred, y_val)\n",
    "acc_list.append(accuracy)\n",
    "f1_list.append(perceptron.f1_score(y_pred, y_val))"
   ]
  },
  {
   "cell_type": "code",
   "execution_count": 26,
   "id": "a2c87dd2",
   "metadata": {},
   "outputs": [
    {
     "data": {
      "image/png": "[encoded data removed]",
      "text/plain": [
       "<Figure size 640x480 with 1 Axes>"
      ]
     },
     "metadata": {},
     "output_type": "display_data"
    }
   ],
   "source": [
    "perceptron.acc_loss_plot()"
   ]
  },
  {
   "cell_type": "markdown",
   "id": "84d0cefc",
   "metadata": {},
   "source": [
    "## 1-2 K-NN Classifier"
   ]
  },
  {
   "cell_type": "code",
   "execution_count": 27,
   "id": "fd15a661",
   "metadata": {
    "scrolled": true
   },
   "outputs": [],
   "source": [
    "class KDNode:\n",
    "    def __init__(self, col=None, data=None, left=None, right=None):\n",
    "        self.col = col\n",
    "        self.data = data\n",
    "        self.left = left\n",
    "        self.right = right\n",
    "\n",
    "class KDTree:\n",
    "    def __init__(self, k, data, labels, metric='Euclidean'):\n",
    "        self.k = k\n",
    "        self.cols = data.shape[1]\n",
    "        self.metric = metric\n",
    "        self.root = self.createNode(0, data, labels)\n",
    "\n",
    "    def createNode(self, col, data, labels):\n",
    "        if data.shape[0] == 0:\n",
    "            return None\n",
    "        \n",
    "        data_sort = data[data[:, col].argsort()]\n",
    "        data_left = data_sort[:data_sort.shape[0]//2]\n",
    "        data_right = data_sort[data_sort.shape[0]//2:]\n",
    "        \n",
    "        if data.shape[0] <= 1:\n",
    "            return KDNode(col=col, data=data_sort, left=None, right=None)\n",
    "        \n",
    "        col = (col+1) % self.cols\n",
    "        left = self.createNode(col, data_left, labels)\n",
    "        right = self.createNode(col, data_right, labels)\n",
    "        \n",
    "        return KDNode(col=col, data=data_sort, left=left, right=right)\n",
    "\n",
    "    def distance(self, point1, point2):\n",
    "        if self.metric == 'Euclidean':\n",
    "            return np.sqrt(np.sum((point1 - point2) ** 2))\n",
    "        elif self.metric == 'Manhattan':\n",
    "            return np.sum(np.abs(point1 - point2))\n",
    "        elif self.metric == 'Chebyshev':\n",
    "            return np.abs(point1 - point2).max()\n",
    "        else:\n",
    "            raise ValueError(\"Error\")\n",
    "\n",
    "    def nearest(self, k=3, point=None):\n",
    "        self.k = k\n",
    "        self.ks = k*100\n",
    "        self.dist = []\n",
    "        self.near = []\n",
    "        self.index = []\n",
    "        self.k_nearest = []\n",
    "        self.point = point\n",
    "\n",
    "        def search(node):\n",
    "            if node is None:\n",
    "                return\n",
    "\n",
    "            next_node = None\n",
    "            if point[node.col] < node.data[:, node.col].mean():\n",
    "                next_node = node.left\n",
    "            else:\n",
    "                next_node = node.right\n",
    "            \n",
    "            if next_node.data.shape[0] > self.ks:\n",
    "                search(next_node)\n",
    "            else:\n",
    "                for i in node.data:\n",
    "                    self.near.append(self.distance(self.point, i))\n",
    "                self.index = np.argsort(self.near)\n",
    "                self.dist = [self.near[i] for i in self.index[:self.k]]\n",
    "                self.k_nearest = [node.data[i] for i in self.index[:self.k]]\n",
    "                \n",
    "        search(self.root)\n",
    "        return self.index[:self.k]\n",
    "\n",
    "class KNN:\n",
    "    def __init__(self, k=3, metric='Euclidean'):\n",
    "        self.k = k\n",
    "        self.tree = None\n",
    "        self.metric = metric\n",
    "\n",
    "    def fit(self, X_train, X_val, y_train, y_val):\n",
    "        if self.metric == 'Euclidean':\n",
    "            self.tree = KDTree(self.k, X_train, y_train, metric='Euclidean')\n",
    "        elif self.metric == 'Manhattan':\n",
    "            self.tree = KDTree(self.k, X_train, y_train, metric='Manhattan')\n",
    "        elif self.metric == 'Chebyshev':\n",
    "            self.tree = KDTree(self.k, X_train, y_train, metric='Chebyshev')\n",
    "        else:\n",
    "            raise ValueError('Error')\n",
    "\n",
    "    def predict(self, x):\n",
    "        y_pred = []\n",
    "        for i in tqdm(range(len(x))):\n",
    "            NN = self.tree.nearest(self.k, x[i, :])\n",
    "            labels = [y_train[i] for i in NN]\n",
    "            majority = np.argmax(np.bincount(labels))\n",
    "            y_pred.append(majority)\n",
    "        y_pred = np.array(y_pred)\n",
    "        acc = self.accuracy(y_pred, y_val)\n",
    "        print(f'KNN Metric: {self.metric} Accuracy: {acc} ')\n",
    "        return y_pred\n",
    "    \n",
    "    def accuracy(self, y_pred, y_true):\n",
    "        return np.sum((y_pred > 0.5).astype(int) == y_true) / len(y_true)\n",
    "    \n",
    "    def precision(self, y_pred, y_true):\n",
    "        true_positives = np.sum((y_pred > 0.5).astype(int) & (y_true == 1).astype(int))\n",
    "        false_positives = np.sum((y_pred > 0.5).astype(int) & (y_true == 0).astype(int))\n",
    "        return true_positives / (true_positives + false_positives)\n",
    "    \n",
    "    def recall(self, y_pred, y_true):\n",
    "        true_positives = np.sum((y_pred > 0.5).astype(int) & (y_true == 1).astype(int))\n",
    "        false_negatives = np.sum((y_pred <= 0.5).astype(int) & (y_true == 1).astype(int))\n",
    "        return true_positives / (true_positives + false_negatives)\n",
    "    \n",
    "    def f1_score(self, y_pred, y_true):\n",
    "        precision_value = self.precision(y_pred, y_true)\n",
    "        recall_value = self.recall(y_pred, y_true)\n",
    "        return 2 * (precision_value * recall_value) / (precision_value + recall_value)"
   ]
  },
  {
   "cell_type": "code",
   "execution_count": 28,
   "id": "55fb7b93",
   "metadata": {
    "scrolled": true
   },
   "outputs": [
    {
     "name": "stderr",
     "output_type": "stream",
     "text": [
      "100%|████████████████████████████████████████████████████████████| 6400/6400 [03:57<00:00, 27.00it/s]\n",
      "elementwise comparison failed; this will raise an error in the future.\n"
     ]
    },
    {
     "name": "stdout",
     "output_type": "stream",
     "text": [
      "KNN Metric: Euclidean Accuracy: 0.0 \n"
     ]
    },
    {
     "name": "stderr",
     "output_type": "stream",
     "text": [
      "100%|██████████████████████████████████████████████████████████████| 800/800 [00:37<00:00, 21.57it/s]\n"
     ]
    },
    {
     "name": "stdout",
     "output_type": "stream",
     "text": [
      "KNN Metric: Euclidean Accuracy: 0.60125 \n"
     ]
    },
    {
     "name": "stderr",
     "output_type": "stream",
     "text": [
      "100%|████████████████████████████████████████████████████████████| 6400/6400 [03:29<00:00, 30.58it/s]\n"
     ]
    },
    {
     "name": "stdout",
     "output_type": "stream",
     "text": [
      "KNN Metric: Manhattan Accuracy: 0.0 \n"
     ]
    },
    {
     "name": "stderr",
     "output_type": "stream",
     "text": [
      "100%|██████████████████████████████████████████████████████████████| 800/800 [00:28<00:00, 28.37it/s]\n"
     ]
    },
    {
     "name": "stdout",
     "output_type": "stream",
     "text": [
      "KNN Metric: Manhattan Accuracy: 0.60625 \n"
     ]
    },
    {
     "name": "stderr",
     "output_type": "stream",
     "text": [
      "100%|████████████████████████████████████████████████████████████| 6400/6400 [02:16<00:00, 46.76it/s]\n"
     ]
    },
    {
     "name": "stdout",
     "output_type": "stream",
     "text": [
      "KNN Metric: Chebyshev Accuracy: 0.0 \n"
     ]
    },
    {
     "name": "stderr",
     "output_type": "stream",
     "text": [
      "100%|██████████████████████████████████████████████████████████████| 800/800 [00:13<00:00, 57.27it/s]"
     ]
    },
    {
     "name": "stdout",
     "output_type": "stream",
     "text": [
      "KNN Metric: Chebyshev Accuracy: 0.60375 \n"
     ]
    },
    {
     "name": "stderr",
     "output_type": "stream",
     "text": [
      "\n"
     ]
    }
   ],
   "source": [
    "knn = KNN(k=20, metric='Euclidean')\n",
    "knn.fit(X_train, X_val, y_train, y_val)\n",
    "# Train\n",
    "y_pred = knn.predict(X_train)\n",
    "accuracy1 = knn.accuracy(y_pred, y_train)\n",
    "# Val\n",
    "y_pred = knn.predict(X_val)\n",
    "accuracy1 = knn.accuracy(y_pred, y_val)\n",
    "\n",
    "knn = KNN(k=20, metric='Manhattan')\n",
    "knn.fit(X_train, X_val, y_train, y_val)\n",
    "# Train\n",
    "y_pred = knn.predict(X_train)\n",
    "accuracy2 = knn.accuracy(y_pred, y_train)\n",
    "# Val\n",
    "y_pred = knn.predict(X_val)\n",
    "accuracy2 = knn.accuracy(y_pred, y_val)\n",
    "\n",
    "knn = KNN(k=20, metric='Chebyshev')\n",
    "knn.fit(X_train, X_val, y_train, y_val)\n",
    "# Train\n",
    "y_pred = knn.predict(X_train)\n",
    "accuracy3 = knn.accuracy(y_pred, y_train)\n",
    "# Val\n",
    "y_pred = knn.predict(X_val)\n",
    "accuracy3 = knn.accuracy(y_pred, y_val)\n",
    "\n",
    "acc_list.append(accuracy1)\n",
    "\n",
    "f1_list.append(perceptron.f1_score(y_pred, y_val))"
   ]
  },
  {
   "cell_type": "markdown",
   "id": "ce5739a7",
   "metadata": {},
   "source": [
    "## 1-3 Naïve Decision Tree Classifier"
   ]
  },
  {
   "cell_type": "code",
   "execution_count": 29,
   "id": "344135ce",
   "metadata": {},
   "outputs": [],
   "source": [
    "class Node:\n",
    "    def __init__(self, predicted_class):\n",
    "        self.predicted_class = predicted_class\n",
    "        self.feature_index = 0\n",
    "        self.threshold = 0\n",
    "        self.left = None\n",
    "        self.right = None\n",
    "\n",
    "class DecisionTreeClassifier:\n",
    "    def __init__(self, max_depth=None):\n",
    "        self.max_depth = max_depth\n",
    "\n",
    "    def fit(self, X, y):\n",
    "        self.num_classes = len(set(y))\n",
    "        self.num_features = X.shape[1]\n",
    "        self.tree = self._build_tree(X, y)\n",
    "\n",
    "    def _calculate_gini(self, y):\n",
    "        m = len(y)\n",
    "        if m == 0:\n",
    "            return 0\n",
    "\n",
    "        gini = 1.0\n",
    "        for c in range(self.num_classes):\n",
    "            p = np.sum(y == c) / m\n",
    "            gini -= p**2\n",
    "\n",
    "        return gini\n",
    "\n",
    "    def _best_split(self, X, y):\n",
    "        m, n = X.shape\n",
    "        if m <= 1:\n",
    "            return None, None\n",
    "\n",
    "        num_parent = [np.sum(y == c) for c in range(self.num_classes)]\n",
    "        best_gini = 1.0 - sum((n / m) * (num / m)**2 for num in num_parent)\n",
    "        best_idx, best_thr = None, None\n",
    "\n",
    "        for idx in range(self.num_features):\n",
    "            thresholds, classes = zip(*sorted(zip(X[:, idx], y)))\n",
    "            num_left = [0] * self.num_classes\n",
    "            num_right = num_parent.copy()\n",
    "\n",
    "            for i in range(1, m):\n",
    "                c = int(classes[i - 1])\n",
    "                num_left[c] += 1.0\n",
    "                num_right[c] -= 1.0\n",
    "                gini_left = 1.0 - sum((num_left[x] / i)**2 for x in range(self.num_classes))\n",
    "                gini_right = 1.0 - sum((num_right[x] / (m - i))**2 for x in range(self.num_classes))\n",
    "                gini = (i * gini_left + (m - i) * gini_right) / m\n",
    "\n",
    "                if thresholds[i] == thresholds[i - 1]:\n",
    "                    continue\n",
    "\n",
    "                if gini < best_gini:\n",
    "                    best_gini = gini\n",
    "                    best_idx = idx\n",
    "                    best_thr = (thresholds[i] + thresholds[i - 1]) / 2\n",
    "\n",
    "        return best_idx, best_thr\n",
    "\n",
    "    def _build_tree(self, X, y, depth=0):\n",
    "        num_samples_per_class = [np.sum(y == i) for i in range(self.num_classes)]\n",
    "        predicted_class = np.argmax(num_samples_per_class)\n",
    "        node = Node(predicted_class=predicted_class)\n",
    "        \n",
    "        if depth < self.max_depth:\n",
    "            idx, thr = self._best_split(X, y)\n",
    "            if idx is not None:\n",
    "                indices_left = X[:, idx] < thr\n",
    "                X_left, y_left = X[indices_left], y[indices_left]\n",
    "                X_right, y_right = X[~indices_left], y[~indices_left]\n",
    "                node.feature_index = idx\n",
    "                node.threshold = thr\n",
    "                node.left = self._build_tree(X_left, y_left, depth + 1)\n",
    "                node.right = self._build_tree(X_right, y_right, depth + 1)\n",
    "\n",
    "        return node\n",
    "\n",
    "    def predict(self, X):\n",
    "        y_pred = np.array([self._predict(inputs) for inputs in X])\n",
    "        return y_pred\n",
    "\n",
    "    def _predict(self, inputs):\n",
    "        node = self.tree\n",
    "        while node.left:\n",
    "            if inputs[node.feature_index] < node.threshold:\n",
    "                node = node.left\n",
    "            else:\n",
    "                node = node.right\n",
    "        return node.predicted_class\n",
    "    \n",
    "    def accuracy(self, y_pred, y_true):\n",
    "        return np.sum((y_pred > 0.5).astype(int) == y_true) / len(y_true)\n",
    "    \n",
    "    def precision(self, y_pred, y_true):\n",
    "        true_positives = np.sum((y_pred > 0.5).astype(int) & (y_true == 1).astype(int))\n",
    "        false_positives = np.sum((y_pred > 0.5).astype(int) & (y_true == 0).astype(int))\n",
    "        return true_positives / (true_positives + false_positives)\n",
    "    \n",
    "    def recall(self, y_pred, y_true):\n",
    "        true_positives = np.sum((y_pred > 0.5).astype(int) & (y_true == 1).astype(int))\n",
    "        false_negatives = np.sum((y_pred <= 0.5).astype(int) & (y_true == 1).astype(int))\n",
    "        return true_positives / (true_positives + false_negatives)\n",
    "    \n",
    "    def f1_score(self, y_pred, y_true):\n",
    "        precision_value = self.precision(y_pred, y_true)\n",
    "        recall_value = self.recall(y_pred, y_true)\n",
    "        return 2 * (precision_value * recall_value) / (precision_value + recall_value)"
   ]
  },
  {
   "cell_type": "code",
   "execution_count": 30,
   "id": "64780944",
   "metadata": {},
   "outputs": [],
   "source": [
    "DT = DecisionTreeClassifier(max_depth=20)\n",
    "DT.fit(X_train, y_train)\n",
    "# Train\n",
    "y_pred = DT.predict(X_train)\n",
    "accuracy = DT.accuracy(y_pred, y_train)\n",
    "# Val\n",
    "y_pred = DT.predict(X_val)\n",
    "accuracy = DT.accuracy(y_pred, y_val)\n",
    "\n",
    "acc_list.append(accuracy)\n",
    "f1_list.append(perceptron.f1_score(y_pred, y_val))"
   ]
  },
  {
   "cell_type": "markdown",
   "id": "1d534afe",
   "metadata": {},
   "source": [
    "## 1-4 Decision Tree with Pruning"
   ]
  },
  {
   "cell_type": "code",
   "execution_count": 31,
   "id": "a7d2c139",
   "metadata": {},
   "outputs": [],
   "source": [
    "class Node:\n",
    "    def __init__(self, predicted_class):\n",
    "        self.predicted_class = predicted_class\n",
    "        self.feature_index = 0\n",
    "        self.threshold = 0\n",
    "        self.left = None\n",
    "        self.right = None\n",
    "\n",
    "class PruningDecisionTreeClassifier(DecisionTreeClassifier):\n",
    "    def __init__(self, max_depth=None, min_samples_split=2, min_samples_leaf=1):\n",
    "        super().__init__(max_depth=max_depth)\n",
    "        self.min_samples_split = min_samples_split\n",
    "        self.min_samples_leaf = min_samples_leaf\n",
    "        \n",
    "    def pruning_fit(self, X, y):\n",
    "        self.fit(X, y)\n",
    "        self._prune(self.tree, X, y)\n",
    "    \n",
    "    def _prune(self, node, X, y):\n",
    "        if node.left is not None or node.right is not None:\n",
    "            if node.left is not None:\n",
    "                self._prune(node.left, X, y)\n",
    "            if node.right is not None:\n",
    "                self._prune(node.right, X, y)\n",
    "\n",
    "            if node.left is not None and node.right is not None:\n",
    "                indices_left = X[:, node.feature_index] < node.threshold\n",
    "                left_X = list(X[indices_left])\n",
    "                right_y = list(X[~indices_left])\n",
    "                left_pred = self.predict(left_X)\n",
    "                right_pred = self.predict(right_y)\n",
    "                merged_gini = (\n",
    "                    len(left_X) * self._calculate_gini(left_pred) +\n",
    "                    len(right_y) * self._calculate_gini(right_pred)\n",
    "                ) / (len(left_X) + len(right_y))\n",
    "                no_prune_gini = self._calculate_gini(self.predict(X))\n",
    "\n",
    "                if merged_gini < no_prune_gini:\n",
    "                    node.left = None\n",
    "                    node.right = None"
   ]
  },
  {
   "cell_type": "code",
   "execution_count": 32,
   "id": "806cfcc6",
   "metadata": {
    "scrolled": false
   },
   "outputs": [
    {
     "name": "stderr",
     "output_type": "stream",
     "text": [
      "invalid value encountered in scalar divide\n"
     ]
    }
   ],
   "source": [
    "PDT = PruningDecisionTreeClassifier(max_depth=20)\n",
    "PDT.pruning_fit(X_train, y_train)\n",
    "y_pred = PDT.predict(X_val)\n",
    "accuracy = PDT.accuracy(y_pred, y_val)\n",
    "acc_list.append(accuracy)\n",
    "f1_list.append(perceptron.f1_score(y_pred, y_val))"
   ]
  },
  {
   "cell_type": "code",
   "execution_count": 33,
   "id": "efcd011f",
   "metadata": {},
   "outputs": [
    {
     "data": {
      "text/plain": [
       "[0.6275, 0.60125, 0.59625, 0.6275]"
      ]
     },
     "execution_count": 33,
     "metadata": {},
     "output_type": "execute_result"
    }
   ],
   "source": [
    "acc_list"
   ]
  },
  {
   "cell_type": "code",
   "execution_count": 34,
   "id": "31e1136e",
   "metadata": {},
   "outputs": [
    {
     "data": {
      "text/plain": [
       "[nan, 0.05934718100890207, 0.3800383877159309, nan]"
      ]
     },
     "execution_count": 34,
     "metadata": {},
     "output_type": "execute_result"
    }
   ],
   "source": [
    "f1_list"
   ]
  },
  {
   "cell_type": "markdown",
   "id": "1ac9ea5a",
   "metadata": {},
   "source": [
    "# 2 Feature engineering:"
   ]
  },
  {
   "cell_type": "markdown",
   "id": "0b070acc",
   "metadata": {},
   "source": [
    "## 2-1 Feature Importance - Perceptron"
   ]
  },
  {
   "cell_type": "code",
   "execution_count": 35,
   "id": "8c8c814b",
   "metadata": {
    "scrolled": true
   },
   "outputs": [
    {
     "name": "stdout",
     "output_type": "stream",
     "text": [
      "TOP 5 important features:\n",
      "policy_tenure: 0.17944294959580157\n",
      "is_speed_alert: -0.0776827605725189\n",
      "is_power_steering: -0.07592879139019616\n",
      "steering_type_Power: -0.07420995317686337\n",
      "rear_brakes_type_Drum: -0.07413551962530754\n"
     ]
    },
    {
     "name": "stderr",
     "output_type": "stream",
     "text": [
      "100%|████████████████████████████████████████████████████████████| 100/100 [00:00<00:00, 1960.81it/s]"
     ]
    },
    {
     "name": "stdout",
     "output_type": "stream",
     "text": [
      "Perceptron Accuracy: 0.62640625, Loss: 0.6580857729096711 \n"
     ]
    },
    {
     "name": "stderr",
     "output_type": "stream",
     "text": [
      "\n"
     ]
    }
   ],
   "source": [
    "weights = perceptron.w\n",
    "top = 5\n",
    "importancy = (abs(weights).argsort())[-top:][::-1]\n",
    "print(f\"TOP {top} important features:\")\n",
    "for i in importancy:\n",
    "    print(f\"{X.columns[i]}: {weights[i]}\")\n",
    "\n",
    "important_X_train = np.array([X_train[:, i] for i in importancy]).T\n",
    "important_X_val = np.array([X_val[:, i] for i in importancy]).T\n",
    "\n",
    "perceptron.fit(important_X_train, important_X_val, y_train, y_val)\n",
    "y_pred = perceptron.predict(important_X_val)"
   ]
  },
  {
   "cell_type": "markdown",
   "id": "15c9bc35",
   "metadata": {},
   "source": [
    "## 2-1 Feature Importance - Decision Tree"
   ]
  },
  {
   "cell_type": "code",
   "execution_count": 36,
   "id": "53f1103e",
   "metadata": {},
   "outputs": [
    {
     "name": "stdout",
     "output_type": "stream",
     "text": [
      "TOP 5 important features:\n",
      "policy_tenure\n",
      "age_of_policyholder\n",
      "population_density\n",
      "age_of_car\n",
      "area_cluster_C19\n"
     ]
    }
   ],
   "source": [
    "importancy = np.zeros(X_train.shape[1])\n",
    "\n",
    "def dfs(node, depth=0):\n",
    "    if node is None:\n",
    "        return\n",
    "    importancy[node.feature_index] += depth\n",
    "    dfs(node.left, depth + 1)\n",
    "    dfs(node.right, depth + 1)\n",
    "dfs(DT.tree)\n",
    "importancy = (importancy.argsort())[-top:][::-1]\n",
    "\n",
    "print(f\"TOP {top} important features:\")\n",
    "for i in importancy:\n",
    "    print(f\"{X.columns[i]}\")\n",
    "    \n",
    "important_X_train = np.array([X_train[:, i] for i in importancy]).T\n",
    "important_X_val = np.array([X_val[:, i] for i in importancy]).T\n",
    "\n",
    "DT.fit(important_X_train, y_train)\n",
    "y_pred = perceptron.predict(important_X_val)\n",
    "accuracy = DT.accuracy(y_pred, y_val)"
   ]
  },
  {
   "cell_type": "code",
   "execution_count": 37,
   "id": "e56d2942",
   "metadata": {},
   "outputs": [
    {
     "data": {
      "text/plain": [
       "0.6275"
      ]
     },
     "execution_count": 37,
     "metadata": {},
     "output_type": "execute_result"
    }
   ],
   "source": [
    "accuracy"
   ]
  },
  {
   "cell_type": "markdown",
   "id": "929c03a1",
   "metadata": {},
   "source": [
    "## 2-2 SHAP"
   ]
  },
  {
   "cell_type": "code",
   "execution_count": 61,
   "id": "ac2ff8ef",
   "metadata": {},
   "outputs": [
    {
     "name": "stderr",
     "output_type": "stream",
     "text": [
      "PermutationExplainer explainer: 7201it [02:20, 47.60it/s]                                            \n"
     ]
    }
   ],
   "source": [
    "DT = DecisionTreeClassifier(max_depth=3)\n",
    "DT.fit(X_train, y_train)\n",
    "\n",
    "class SHAPWrapper:\n",
    "    def __init__(self, model):\n",
    "        self.model = model\n",
    "\n",
    "    def __call__(self, x):\n",
    "        return self.model.predict(x)\n",
    "\n",
    "\n",
    "shap_model = SHAPWrapper(DT)\n",
    "explainer = shap.Explainer(shap_model, X_train)\n",
    "explainer.feature_names = X.columns\n",
    "shap_values = explainer(X_train)"
   ]
  },
  {
   "cell_type": "code",
   "execution_count": 63,
   "id": "d3ec035b",
   "metadata": {},
   "outputs": [
    {
     "data": {
      "image/png": "[encoded data removed]",
      "text/plain": [
       "<Figure size 800x350 with 2 Axes>"
      ]
     },
     "metadata": {},
     "output_type": "display_data"
    },
    {
     "data": {
      "image/png": "[encoded data removed]",
      "text/plain": [
       "<Figure size 800x400 with 1 Axes>"
      ]
     },
     "metadata": {},
     "output_type": "display_data"
    },
    {
     "data": {
      "image/png": "[encoded data removed]",
      "text/plain": [
       "<Figure size 800x350 with 1 Axes>"
      ]
     },
     "metadata": {},
     "output_type": "display_data"
    }
   ],
   "source": [
    "shap.summary_plot(shap_values, X_train, max_display=5, feature_names=X.columns)\n",
    "shap.plots.bar(shap_values, max_display=5)\n",
    "shap.summary_plot(shap_values, X_train, feature_names=X.columns, plot_type=\"bar\",show=False, max_display=5)"
   ]
  },
  {
   "cell_type": "markdown",
   "id": "7b481233",
   "metadata": {},
   "source": [
    "## 2-3 New Feature"
   ]
  },
  {
   "cell_type": "code",
   "execution_count": 40,
   "id": "7e36f3d6",
   "metadata": {},
   "outputs": [],
   "source": [
    "_df.insert(0, 'age_of_car_policyholder', df['age_of_car'] * df['age_of_policyholder'])\n",
    "_df.insert(0, 'displacement_policy_tenure', df['displacement'] * df['policy_tenure'])"
   ]
  },
  {
   "cell_type": "code",
   "execution_count": 41,
   "id": "38841b14",
   "metadata": {},
   "outputs": [],
   "source": [
    "def normalize(column):\n",
    "    min_val = column.min()\n",
    "    max_val = column.max()\n",
    "    normalized_column = (column - min_val) / (max_val - min_val)\n",
    "    return normalized_column\n",
    "\n",
    "for column in dataset_num_col:\n",
    "    _df[column] = normalize(_df[column])"
   ]
  },
  {
   "cell_type": "code",
   "execution_count": 42,
   "id": "c8b41c47",
   "metadata": {},
   "outputs": [],
   "source": [
    "_X = _df.drop(columns = \"is_claim\")\n",
    "_y = _df[\"is_claim\"]"
   ]
  },
  {
   "cell_type": "code",
   "execution_count": 43,
   "id": "3efdccf4",
   "metadata": {},
   "outputs": [],
   "source": [
    "_X_train = np.array(_X.iloc[:int(_X.shape[0]*0.8), :], dtype='float64')\n",
    "_X_val = np.array(_X.iloc[int(X.shape[0]-_X.shape[0]*0.2):int(_X.shape[0]-_X.shape[0]*0.1), :], dtype='float64')\n",
    "_X_test = np.array(_X.iloc[-int(_X.shape[0]*0.1):, :], dtype='float64')\n",
    "_y_train = np.array(_y[:int(_X.shape[0]*0.8)], dtype='float64')\n",
    "_y_val = np.array(_y[int(_X.shape[0]-_X.shape[0]*0.2):int(_X.shape[0]-_X.shape[0]*0.1)], dtype='float64')\n",
    "_y_test = np.array(_y[-int(_X.shape[0]*0.1):], dtype='float64')"
   ]
  },
  {
   "cell_type": "code",
   "execution_count": 44,
   "id": "cdb8d97a",
   "metadata": {},
   "outputs": [],
   "source": [
    "DT = DecisionTreeClassifier(max_depth=20)\n",
    "DT.fit(_X_train, _y_train)\n",
    "_y_pred = DT.predict(_X_val)\n",
    "accuracy = DT.accuracy(_y_pred, _y_val)"
   ]
  },
  {
   "cell_type": "code",
   "execution_count": 45,
   "id": "249f09e1",
   "metadata": {},
   "outputs": [
    {
     "name": "stdout",
     "output_type": "stream",
     "text": [
      "New Feature Accuracy : Before: 0.59625 After: 0.61875\n"
     ]
    }
   ],
   "source": [
    "print('New Feature Accuracy : Before:', acc_list[2], 'After:', accuracy)"
   ]
  },
  {
   "cell_type": "markdown",
   "id": "39f8e6c6",
   "metadata": {},
   "source": [
    "# 3 Cross-Validation"
   ]
  },
  {
   "cell_type": "markdown",
   "id": "5fbba46e",
   "metadata": {},
   "source": [
    "## 3-1 k-fold(k=3, 5, 10)"
   ]
  },
  {
   "cell_type": "code",
   "execution_count": 46,
   "id": "c4c99b08",
   "metadata": {},
   "outputs": [],
   "source": [
    "from sklearn.model_selection import KFold"
   ]
  },
  {
   "cell_type": "code",
   "execution_count": 47,
   "id": "53353a6c",
   "metadata": {},
   "outputs": [
    {
     "name": "stdout",
     "output_type": "stream",
     "text": [
      "\n",
      "Performing 3-fold Cross-Validation:\n",
      "K: 3 Fold: 1: Train 5333 samples, Validation 2667 samples\n"
     ]
    },
    {
     "name": "stderr",
     "output_type": "stream",
     "text": [
      "100%|████████████████████████████████████████████████████████████| 100/100 [00:00<00:00, 1612.95it/s]\n"
     ]
    },
    {
     "name": "stdout",
     "output_type": "stream",
     "text": [
      "Perceptron Accuracy: 0.6294768423026439, Loss: 0.6532279971694603 \n"
     ]
    },
    {
     "name": "stderr",
     "output_type": "stream",
     "text": [
      "100%|████████████████████████████████████████████████████████████| 2667/2667 [01:24<00:00, 31.55it/s]\n"
     ]
    },
    {
     "name": "stdout",
     "output_type": "stream",
     "text": [
      "KNN Metric: Euclidean Accuracy: 0.5999250093738283 \n",
      "DecisionTree acc =  0.61875\n",
      "PruningDecisionTree acc =  0.61875\n",
      "= = = = = = = = = = = = = = = = = = = = = = = = = = = = = = \n",
      "K: 3 Fold: 2: Train 5333 samples, Validation 2667 samples\n"
     ]
    },
    {
     "name": "stderr",
     "output_type": "stream",
     "text": [
      "100%|████████████████████████████████████████████████████████████| 100/100 [00:00<00:00, 1612.87it/s]\n"
     ]
    },
    {
     "name": "stdout",
     "output_type": "stream",
     "text": [
      "Perceptron Accuracy: 0.6217888618038627, Loss: 0.6577071609540425 \n"
     ]
    },
    {
     "name": "stderr",
     "output_type": "stream",
     "text": [
      "100%|████████████████████████████████████████████████████████████| 2667/2667 [01:19<00:00, 33.73it/s]\n"
     ]
    },
    {
     "name": "stdout",
     "output_type": "stream",
     "text": [
      "KNN Metric: Euclidean Accuracy: 0.6089238845144357 \n",
      "DecisionTree acc =  0.61875\n",
      "PruningDecisionTree acc =  0.61875\n",
      "= = = = = = = = = = = = = = = = = = = = = = = = = = = = = = \n",
      "K: 3 Fold: 3: Train 5334 samples, Validation 2666 samples\n"
     ]
    },
    {
     "name": "stderr",
     "output_type": "stream",
     "text": [
      "100%|████████████████████████████████████████████████████████████| 100/100 [00:00<00:00, 1243.87it/s]\n"
     ]
    },
    {
     "name": "stdout",
     "output_type": "stream",
     "text": [
      "Perceptron Accuracy: 0.623734533183352, Loss: 0.6573162956082879 \n"
     ]
    },
    {
     "name": "stderr",
     "output_type": "stream",
     "text": [
      "100%|████████████████████████████████████████████████████████████| 2666/2666 [01:18<00:00, 33.94it/s]\n"
     ]
    },
    {
     "name": "stdout",
     "output_type": "stream",
     "text": [
      "KNN Metric: Euclidean Accuracy: 0.6117779444861215 \n",
      "DecisionTree acc =  0.61875\n",
      "PruningDecisionTree acc =  0.61875\n",
      "= = = = = = = = = = = = = = = = = = = = = = = = = = = = = = \n",
      "\n",
      "Performing 5-fold Cross-Validation:\n",
      "K: 5 Fold: 1: Train 6400 samples, Validation 1600 samples\n"
     ]
    },
    {
     "name": "stderr",
     "output_type": "stream",
     "text": [
      "100%|█████████████████████████████████████████████████████████████| 100/100 [00:00<00:00, 958.30it/s]\n"
     ]
    },
    {
     "name": "stdout",
     "output_type": "stream",
     "text": [
      "Perceptron Accuracy: 0.62609375, Loss: 0.6557608262013221 \n"
     ]
    },
    {
     "name": "stderr",
     "output_type": "stream",
     "text": [
      "100%|████████████████████████████████████████████████████████████| 1600/1600 [01:01<00:00, 26.21it/s]\n"
     ]
    },
    {
     "name": "stdout",
     "output_type": "stream",
     "text": [
      "KNN Metric: Euclidean Accuracy: 0.6 \n",
      "DecisionTree acc =  0.61875\n",
      "PruningDecisionTree acc =  0.61875\n",
      "= = = = = = = = = = = = = = = = = = = = = = = = = = = = = = \n",
      "K: 5 Fold: 2: Train 6400 samples, Validation 1600 samples\n"
     ]
    },
    {
     "name": "stderr",
     "output_type": "stream",
     "text": [
      "100%|█████████████████████████████████████████████████████████████| 100/100 [00:00<00:00, 709.40it/s]"
     ]
    },
    {
     "name": "stdout",
     "output_type": "stream",
     "text": [
      "Perceptron Accuracy: 0.6271875, Loss: 0.6546470393262201 \n"
     ]
    },
    {
     "name": "stderr",
     "output_type": "stream",
     "text": [
      "\n",
      "100%|████████████████████████████████████████████████████████████| 1600/1600 [00:56<00:00, 28.16it/s]\n"
     ]
    },
    {
     "name": "stdout",
     "output_type": "stream",
     "text": [
      "KNN Metric: Euclidean Accuracy: 0.6 \n",
      "DecisionTree acc =  0.61875\n",
      "PruningDecisionTree acc =  0.61875\n",
      "= = = = = = = = = = = = = = = = = = = = = = = = = = = = = = \n",
      "K: 5 Fold: 3: Train 6400 samples, Validation 1600 samples\n"
     ]
    },
    {
     "name": "stderr",
     "output_type": "stream",
     "text": [
      "100%|████████████████████████████████████████████████████████████| 100/100 [00:00<00:00, 1033.35it/s]"
     ]
    },
    {
     "name": "stdout",
     "output_type": "stream",
     "text": [
      "Perceptron Accuracy: 0.6225, Loss: 0.6571707183451031 \n"
     ]
    },
    {
     "name": "stderr",
     "output_type": "stream",
     "text": [
      "\n",
      "100%|████████████████████████████████████████████████████████████| 1600/1600 [01:02<00:00, 25.48it/s]\n"
     ]
    },
    {
     "name": "stdout",
     "output_type": "stream",
     "text": [
      "KNN Metric: Euclidean Accuracy: 0.611875 \n",
      "DecisionTree acc =  0.61875\n",
      "PruningDecisionTree acc =  0.61875\n",
      "= = = = = = = = = = = = = = = = = = = = = = = = = = = = = = \n",
      "K: 5 Fold: 4: Train 6400 samples, Validation 1600 samples\n"
     ]
    },
    {
     "name": "stderr",
     "output_type": "stream",
     "text": [
      "100%|█████████████████████████████████████████████████████████████| 100/100 [00:00<00:00, 769.00it/s]"
     ]
    },
    {
     "name": "stdout",
     "output_type": "stream",
     "text": [
      "Perceptron Accuracy: 0.62515625, Loss: 0.6561888404901762 \n"
     ]
    },
    {
     "name": "stderr",
     "output_type": "stream",
     "text": [
      "\n",
      "100%|████████████████████████████████████████████████████████████| 1600/1600 [00:58<00:00, 27.21it/s]\n"
     ]
    },
    {
     "name": "stdout",
     "output_type": "stream",
     "text": [
      "KNN Metric: Euclidean Accuracy: 0.60375 \n",
      "DecisionTree acc =  0.61875\n",
      "PruningDecisionTree acc =  0.61875\n",
      "= = = = = = = = = = = = = = = = = = = = = = = = = = = = = = \n",
      "K: 5 Fold: 5: Train 6400 samples, Validation 1600 samples\n"
     ]
    },
    {
     "name": "stderr",
     "output_type": "stream",
     "text": [
      "100%|████████████████████████████████████████████████████████████| 100/100 [00:00<00:00, 1449.08it/s]\n"
     ]
    },
    {
     "name": "stdout",
     "output_type": "stream",
     "text": [
      "Perceptron Accuracy: 0.6240625, Loss: 0.6570180070078977 \n"
     ]
    },
    {
     "name": "stderr",
     "output_type": "stream",
     "text": [
      "100%|████████████████████████████████████████████████████████████| 1600/1600 [00:59<00:00, 26.99it/s]\n"
     ]
    },
    {
     "name": "stdout",
     "output_type": "stream",
     "text": [
      "KNN Metric: Euclidean Accuracy: 0.611875 \n",
      "DecisionTree acc =  0.61875\n",
      "PruningDecisionTree acc =  0.61875\n",
      "= = = = = = = = = = = = = = = = = = = = = = = = = = = = = = \n",
      "\n",
      "Performing 10-fold Cross-Validation:\n",
      "K: 10 Fold: 1: Train 7200 samples, Validation 800 samples\n"
     ]
    },
    {
     "name": "stderr",
     "output_type": "stream",
     "text": [
      "100%|████████████████████████████████████████████████████████████| 100/100 [00:00<00:00, 1017.67it/s]\n"
     ]
    },
    {
     "name": "stdout",
     "output_type": "stream",
     "text": [
      "Perceptron Accuracy: 0.6248611111111111, Loss: 0.6566763675505616 \n"
     ]
    },
    {
     "name": "stderr",
     "output_type": "stream",
     "text": [
      "100%|██████████████████████████████████████████████████████████████| 800/800 [00:32<00:00, 24.74it/s]\n"
     ]
    },
    {
     "name": "stdout",
     "output_type": "stream",
     "text": [
      "KNN Metric: Euclidean Accuracy: 0.59625 \n",
      "DecisionTree acc =  0.61875\n",
      "PruningDecisionTree acc =  0.61875\n",
      "= = = = = = = = = = = = = = = = = = = = = = = = = = = = = = \n",
      "K: 10 Fold: 2: Train 7200 samples, Validation 800 samples\n"
     ]
    },
    {
     "name": "stderr",
     "output_type": "stream",
     "text": [
      "100%|████████████████████████████████████████████████████████████| 100/100 [00:00<00:00, 1459.52it/s]\n"
     ]
    },
    {
     "name": "stdout",
     "output_type": "stream",
     "text": [
      "Perceptron Accuracy: 0.6261111111111111, Loss: 0.6554138553565892 \n"
     ]
    },
    {
     "name": "stderr",
     "output_type": "stream",
     "text": [
      "100%|██████████████████████████████████████████████████████████████| 800/800 [00:34<00:00, 22.88it/s]\n"
     ]
    },
    {
     "name": "stdout",
     "output_type": "stream",
     "text": [
      "KNN Metric: Euclidean Accuracy: 0.60125 \n",
      "DecisionTree acc =  0.61875\n",
      "PruningDecisionTree acc =  0.61875\n",
      "= = = = = = = = = = = = = = = = = = = = = = = = = = = = = = \n",
      "K: 10 Fold: 3: Train 7200 samples, Validation 800 samples\n"
     ]
    },
    {
     "name": "stderr",
     "output_type": "stream",
     "text": [
      "100%|████████████████████████████████████████████████████████████| 100/100 [00:00<00:00, 1551.29it/s]\n"
     ]
    },
    {
     "name": "stdout",
     "output_type": "stream",
     "text": [
      "Perceptron Accuracy: 0.6254166666666666, Loss: 0.6556276221945574 \n"
     ]
    },
    {
     "name": "stderr",
     "output_type": "stream",
     "text": [
      "100%|██████████████████████████████████████████████████████████████| 800/800 [00:32<00:00, 24.95it/s]\n"
     ]
    },
    {
     "name": "stdout",
     "output_type": "stream",
     "text": [
      "KNN Metric: Euclidean Accuracy: 0.605 \n",
      "DecisionTree acc =  0.61875\n",
      "PruningDecisionTree acc =  0.61875\n",
      "= = = = = = = = = = = = = = = = = = = = = = = = = = = = = = \n",
      "K: 10 Fold: 4: Train 7200 samples, Validation 800 samples\n"
     ]
    },
    {
     "name": "stderr",
     "output_type": "stream",
     "text": [
      "100%|████████████████████████████████████████████████████████████| 100/100 [00:00<00:00, 1228.19it/s]"
     ]
    },
    {
     "name": "stdout",
     "output_type": "stream",
     "text": [
      "Perceptron Accuracy: 0.6265277777777778, Loss: 0.6554970268059171 \n"
     ]
    },
    {
     "name": "stderr",
     "output_type": "stream",
     "text": [
      "\n",
      "100%|██████████████████████████████████████████████████████████████| 800/800 [00:29<00:00, 26.91it/s]\n"
     ]
    },
    {
     "name": "stdout",
     "output_type": "stream",
     "text": [
      "KNN Metric: Euclidean Accuracy: 0.59 \n",
      "DecisionTree acc =  0.61875\n",
      "PruningDecisionTree acc =  0.61875\n",
      "= = = = = = = = = = = = = = = = = = = = = = = = = = = = = = \n",
      "K: 10 Fold: 5: Train 7200 samples, Validation 800 samples\n"
     ]
    },
    {
     "name": "stderr",
     "output_type": "stream",
     "text": [
      "100%|█████████████████████████████████████████████████████████████| 100/100 [00:00<00:00, 731.24it/s]"
     ]
    },
    {
     "name": "stdout",
     "output_type": "stream",
     "text": [
      "Perceptron Accuracy: 0.6248611111111111, Loss: 0.6564031028501675 \n"
     ]
    },
    {
     "name": "stderr",
     "output_type": "stream",
     "text": [
      "\n",
      "100%|██████████████████████████████████████████████████████████████| 800/800 [00:30<00:00, 26.17it/s]\n"
     ]
    },
    {
     "name": "stdout",
     "output_type": "stream",
     "text": [
      "KNN Metric: Euclidean Accuracy: 0.6125 \n",
      "DecisionTree acc =  0.61875\n",
      "PruningDecisionTree acc =  0.61875\n",
      "= = = = = = = = = = = = = = = = = = = = = = = = = = = = = = \n",
      "K: 10 Fold: 6: Train 7200 samples, Validation 800 samples\n"
     ]
    },
    {
     "name": "stderr",
     "output_type": "stream",
     "text": [
      "100%|████████████████████████████████████████████████████████████| 100/100 [00:00<00:00, 1575.04it/s]\n"
     ]
    },
    {
     "name": "stdout",
     "output_type": "stream",
     "text": [
      "Perceptron Accuracy: 0.6229166666666667, Loss: 0.6570230639691612 \n"
     ]
    },
    {
     "name": "stderr",
     "output_type": "stream",
     "text": [
      "100%|██████████████████████████████████████████████████████████████| 800/800 [00:34<00:00, 23.33it/s]\n"
     ]
    },
    {
     "name": "stdout",
     "output_type": "stream",
     "text": [
      "KNN Metric: Euclidean Accuracy: 0.61625 \n",
      "DecisionTree acc =  0.61875\n",
      "PruningDecisionTree acc =  0.61875\n",
      "= = = = = = = = = = = = = = = = = = = = = = = = = = = = = = \n",
      "K: 10 Fold: 7: Train 7200 samples, Validation 800 samples\n"
     ]
    },
    {
     "name": "stderr",
     "output_type": "stream",
     "text": [
      "100%|████████████████████████████████████████████████████████████| 100/100 [00:00<00:00, 1441.22it/s]\n"
     ]
    },
    {
     "name": "stdout",
     "output_type": "stream",
     "text": [
      "Perceptron Accuracy: 0.6231944444444445, Loss: 0.6572915738071795 \n"
     ]
    },
    {
     "name": "stderr",
     "output_type": "stream",
     "text": [
      "100%|██████████████████████████████████████████████████████████████| 800/800 [00:33<00:00, 23.76it/s]\n"
     ]
    },
    {
     "name": "stdout",
     "output_type": "stream",
     "text": [
      "KNN Metric: Euclidean Accuracy: 0.6125 \n",
      "DecisionTree acc =  0.61875\n",
      "PruningDecisionTree acc =  0.61875\n",
      "= = = = = = = = = = = = = = = = = = = = = = = = = = = = = = \n",
      "K: 10 Fold: 8: Train 7200 samples, Validation 800 samples\n"
     ]
    },
    {
     "name": "stderr",
     "output_type": "stream",
     "text": [
      "100%|████████████████████████████████████████████████████████████| 100/100 [00:00<00:00, 1515.12it/s]\n"
     ]
    },
    {
     "name": "stdout",
     "output_type": "stream",
     "text": [
      "Perceptron Accuracy: 0.6269444444444444, Loss: 0.6552770156576533 \n"
     ]
    },
    {
     "name": "stderr",
     "output_type": "stream",
     "text": [
      "100%|██████████████████████████████████████████████████████████████| 800/800 [00:31<00:00, 25.39it/s]\n"
     ]
    },
    {
     "name": "stdout",
     "output_type": "stream",
     "text": [
      "KNN Metric: Euclidean Accuracy: 0.585 \n",
      "DecisionTree acc =  0.61875\n",
      "PruningDecisionTree acc =  0.61875\n",
      "= = = = = = = = = = = = = = = = = = = = = = = = = = = = = = \n",
      "K: 10 Fold: 9: Train 7200 samples, Validation 800 samples\n"
     ]
    },
    {
     "name": "stderr",
     "output_type": "stream",
     "text": [
      "100%|████████████████████████████████████████████████████████████| 100/100 [00:00<00:00, 2893.86it/s]\n"
     ]
    },
    {
     "name": "stdout",
     "output_type": "stream",
     "text": [
      "Perceptron Accuracy: 0.6241666666666666, Loss: 0.6568594143751276 \n"
     ]
    },
    {
     "name": "stderr",
     "output_type": "stream",
     "text": [
      "100%|██████████████████████████████████████████████████████████████| 800/800 [00:09<00:00, 87.38it/s]\n"
     ]
    },
    {
     "name": "stdout",
     "output_type": "stream",
     "text": [
      "KNN Metric: Euclidean Accuracy: 0.61125 \n",
      "DecisionTree acc =  0.61875\n",
      "PruningDecisionTree acc =  0.61875\n",
      "= = = = = = = = = = = = = = = = = = = = = = = = = = = = = = \n",
      "K: 10 Fold: 10: Train 7200 samples, Validation 800 samples\n"
     ]
    },
    {
     "name": "stderr",
     "output_type": "stream",
     "text": [
      "100%|████████████████████████████████████████████████████████████| 100/100 [00:00<00:00, 2889.10it/s]\n"
     ]
    },
    {
     "name": "stdout",
     "output_type": "stream",
     "text": [
      "Perceptron Accuracy: 0.625, Loss: 0.6563973047414472 \n"
     ]
    },
    {
     "name": "stderr",
     "output_type": "stream",
     "text": [
      "100%|██████████████████████████████████████████████████████████████| 800/800 [00:09<00:00, 84.53it/s]\n"
     ]
    },
    {
     "name": "stdout",
     "output_type": "stream",
     "text": [
      "KNN Metric: Euclidean Accuracy: 0.60375 \n",
      "DecisionTree acc =  0.61875\n",
      "PruningDecisionTree acc =  0.61875\n",
      "= = = = = = = = = = = = = = = = = = = = = = = = = = = = = = \n"
     ]
    }
   ],
   "source": [
    "fold_record = []\n",
    "fold_model_record = []\n",
    "k_values = [3, 5, 10]\n",
    "\n",
    "for k in k_values:\n",
    "    print(f\"\\nPerforming {k}-fold Cross-Validation:\")\n",
    "\n",
    "    kf = KFold(n_splits=k, shuffle=True, random_state=21)\n",
    "    acc_record = [[], [], [], []]\n",
    "    model_record = [[], [], [], []]\n",
    "    for fold, (train_index, val_index) in enumerate(kf.split(X, y)):\n",
    "        X_train, X_val = np.array(X.iloc[train_index, :]), np.array(X.iloc[val_index, :])\n",
    "        y_train, y_val = np.array(y.iloc[train_index]), np.array(y.iloc[val_index])\n",
    "        print(f\"K: {k} Fold: {fold + 1}: Train {len(train_index)} samples, Validation {len(val_index)} samples\")\n",
    "        \n",
    "        perceptron = Perceptron()\n",
    "        perceptron.fit(X_train, X_val, y_train, y_val)\n",
    "        y_pred = perceptron.predict(X_val)\n",
    "        accuracy0 = perceptron.accuracy(y_pred, y_val)\n",
    "        acc_record[0].append(accuracy0)\n",
    "        model_record[0].append(perceptron)\n",
    "        \n",
    "        knn = KNN(k=20, metric='Euclidean')\n",
    "        knn.fit(X_train, X_val, y_train, y_val)\n",
    "        y_pred = knn.predict(X_val)\n",
    "        accuracy1 = knn.accuracy(y_pred, y_val)\n",
    "        acc_record[1].append(accuracy1)\n",
    "        model_record[1].append(knn)\n",
    "        \n",
    "        DT = DecisionTreeClassifier(max_depth=20)\n",
    "        DT.fit(X_train, y_train)\n",
    "        y_pred = DT.predict(X_val)\n",
    "        accuracy2 = DT.accuracy(y_pred, y_val)\n",
    "        print('DecisionTree acc = ', accuracy)\n",
    "        acc_record[2].append(accuracy2)\n",
    "        model_record[2].append(DT)\n",
    "        \n",
    "        PDT = PruningDecisionTreeClassifier(max_depth=20)\n",
    "        PDT.pruning_fit(X_train, y_train)\n",
    "        y_pred = PDT.predict(X_val)\n",
    "        accuracy3 = PDT.accuracy(y_pred, y_val)\n",
    "        acc_record[3].append(accuracy3)\n",
    "        model_record[3].append(PDT)\n",
    "        print('PruningDecisionTree acc = ', accuracy)\n",
    "        print('= ' * 30)\n",
    "        \n",
    "    fold_record.append(acc_record)\n",
    "    fold_model_record.append(model_record)"
   ]
  },
  {
   "cell_type": "code",
   "execution_count": 48,
   "id": "5a7060d5",
   "metadata": {
    "scrolled": false
   },
   "outputs": [],
   "source": [
    "# fold_record"
   ]
  },
  {
   "cell_type": "code",
   "execution_count": 49,
   "id": "1b10d571",
   "metadata": {},
   "outputs": [
    {
     "data": {
      "image/png": "[encoded data removed]",
      "text/plain": [
       "<Figure size 1000x600 with 1 Axes>"
      ]
     },
     "metadata": {},
     "output_type": "display_data"
    }
   ],
   "source": [
    "k = [f'k = {i+1}' for i in range(len(fold_record[0][0]))]\n",
    "acc = {\n",
    "    'Perceptron': fold_record[0][0],\n",
    "    'K-NN': fold_record[0][1],\n",
    "    'Naïve Decision Tree': fold_record[0][2],\n",
    "    'Decision Tree with Pruning': fold_record[0][3]\n",
    "}\n",
    "\n",
    "x = np.arange(len(k))\n",
    "width = 0.2\n",
    "multiplier = 0\n",
    "\n",
    "fig, ax = plt.subplots()\n",
    "fig.set_size_inches(10, 6)\n",
    "\n",
    "for attribute, measurement in acc.items():\n",
    "    offset = width * multiplier\n",
    "    rects = ax.bar(x + offset, measurement, width, label=attribute)\n",
    "    ax.bar_label(rects, padding=3, fmt='%.2f')\n",
    "    multiplier += 1\n",
    "\n",
    "ax.set_ylim(0.55, 0.7)\n",
    "ax.set_ylabel('Accuracy')\n",
    "ax.set_title('3-fold accuracy')\n",
    "ax.set_xticks(x + width * 1.5)\n",
    "ax.set_xticklabels(k)\n",
    "ax.legend(loc='upper right')\n",
    "\n",
    "plt.show()\n"
   ]
  },
  {
   "cell_type": "code",
   "execution_count": 50,
   "id": "c6fad279",
   "metadata": {},
   "outputs": [
    {
     "data": {
      "image/png": "[encoded data removed]",
      "text/plain": [
       "<Figure size 1500x600 with 1 Axes>"
      ]
     },
     "metadata": {},
     "output_type": "display_data"
    }
   ],
   "source": [
    "k = [f'k = {i+1}' for i in range(len(fold_record[1][0]))]\n",
    "acc = {\n",
    "    'Perceptron': fold_record[1][0],\n",
    "    'K-NN': fold_record[1][1],\n",
    "    'Naïve Decision Tree': fold_record[1][2],\n",
    "    'Decision Tree with Pruning': fold_record[1][3]\n",
    "}\n",
    "\n",
    "x = np.arange(len(k))\n",
    "width = 0.2\n",
    "multiplier = 0\n",
    "\n",
    "fig, ax = plt.subplots()\n",
    "fig.set_size_inches(15, 6)\n",
    "for attribute, measurement in acc.items():\n",
    "    offset = width * multiplier\n",
    "    rects = ax.bar(x + offset, measurement, width, label=attribute)\n",
    "    ax.bar_label(rects, padding=3, fmt='%.2f')\n",
    "    multiplier += 1\n",
    "\n",
    "ax.set_ylim(0.55, 0.7)\n",
    "ax.set_ylabel('Accuracy')\n",
    "ax.set_title('5-fold accuracy')\n",
    "ax.set_xticks(x + width * 1.5)\n",
    "ax.set_xticklabels(k)\n",
    "ax.legend(loc='upper right')\n",
    "\n",
    "plt.show()\n"
   ]
  },
  {
   "cell_type": "code",
   "execution_count": 51,
   "id": "f6e4e305",
   "metadata": {},
   "outputs": [
    {
     "data": {
      "image/png": "[encoded data removed]",
      "text/plain": [
       "<Figure size 2000x600 with 1 Axes>"
      ]
     },
     "metadata": {},
     "output_type": "display_data"
    }
   ],
   "source": [
    "k = [f'k = {i+1}' for i in range(len(fold_record[2][0]))]\n",
    "acc = {\n",
    "    'Perceptron': fold_record[2][0],\n",
    "    'K-NN': fold_record[2][1],\n",
    "    'Naïve Decision Tree': fold_record[2][2],\n",
    "    'Decision Tree with Pruning': fold_record[2][3]\n",
    "}\n",
    "\n",
    "x = np.arange(len(k))\n",
    "width = 0.2\n",
    "multiplier = 0\n",
    "\n",
    "fig, ax = plt.subplots()\n",
    "fig.set_size_inches(20, 6)\n",
    "for attribute, measurement in acc.items():\n",
    "    offset = width * multiplier\n",
    "    rects = ax.bar(x + offset, measurement, width, label=attribute)\n",
    "    ax.bar_label(rects, padding=3, fmt='%.2f')\n",
    "    multiplier += 1\n",
    "\n",
    "ax.set_ylim(0.55, 0.7)\n",
    "ax.set_ylabel('Accuracy')\n",
    "ax.set_title('10-fold accuracy')\n",
    "ax.set_xticks(x + width * 1.5)\n",
    "ax.set_xticklabels(k)\n",
    "ax.legend(loc='upper right')\n",
    "\n",
    "plt.show()\n"
   ]
  },
  {
   "cell_type": "markdown",
   "id": "014d4439",
   "metadata": {},
   "source": [
    "## 3-2 Predict test "
   ]
  },
  {
   "cell_type": "code",
   "execution_count": 52,
   "id": "88bf9948",
   "metadata": {},
   "outputs": [
    {
     "name": "stderr",
     "output_type": "stream",
     "text": [
      "100%|█████████████████████████████████████████████████████████████| 800/800 [00:06<00:00, 119.52it/s]\n"
     ]
    },
    {
     "name": "stdout",
     "output_type": "stream",
     "text": [
      "KNN Metric: Euclidean Accuracy: 0.61375 \n"
     ]
    },
    {
     "name": "stderr",
     "output_type": "stream",
     "text": [
      "100%|█████████████████████████████████████████████████████████████| 800/800 [00:06<00:00, 119.94it/s]\n"
     ]
    },
    {
     "name": "stdout",
     "output_type": "stream",
     "text": [
      "KNN Metric: Euclidean Accuracy: 0.5825 \n"
     ]
    },
    {
     "name": "stderr",
     "output_type": "stream",
     "text": [
      "100%|█████████████████████████████████████████████████████████████| 800/800 [00:06<00:00, 116.71it/s]\n"
     ]
    },
    {
     "name": "stdout",
     "output_type": "stream",
     "text": [
      "KNN Metric: Euclidean Accuracy: 0.62375 \n",
      "= = = = = = = = = = = = = = = = = = = = = = = = = = = = = = \n"
     ]
    },
    {
     "name": "stderr",
     "output_type": "stream",
     "text": [
      "100%|██████████████████████████████████████████████████████████████| 800/800 [00:08<00:00, 97.81it/s]\n"
     ]
    },
    {
     "name": "stdout",
     "output_type": "stream",
     "text": [
      "KNN Metric: Euclidean Accuracy: 0.59375 \n"
     ]
    },
    {
     "name": "stderr",
     "output_type": "stream",
     "text": [
      "100%|██████████████████████████████████████████████████████████████| 800/800 [00:08<00:00, 98.16it/s]\n"
     ]
    },
    {
     "name": "stdout",
     "output_type": "stream",
     "text": [
      "KNN Metric: Euclidean Accuracy: 0.60875 \n"
     ]
    },
    {
     "name": "stderr",
     "output_type": "stream",
     "text": [
      "100%|██████████████████████████████████████████████████████████████| 800/800 [00:08<00:00, 97.65it/s]\n"
     ]
    },
    {
     "name": "stdout",
     "output_type": "stream",
     "text": [
      "KNN Metric: Euclidean Accuracy: 0.59375 \n"
     ]
    },
    {
     "name": "stderr",
     "output_type": "stream",
     "text": [
      "100%|█████████████████████████████████████████████████████████████| 800/800 [00:07<00:00, 102.56it/s]\n"
     ]
    },
    {
     "name": "stdout",
     "output_type": "stream",
     "text": [
      "KNN Metric: Euclidean Accuracy: 0.615 \n"
     ]
    },
    {
     "name": "stderr",
     "output_type": "stream",
     "text": [
      "100%|█████████████████████████████████████████████████████████████| 800/800 [00:07<00:00, 102.93it/s]\n"
     ]
    },
    {
     "name": "stdout",
     "output_type": "stream",
     "text": [
      "KNN Metric: Euclidean Accuracy: 0.61 \n",
      "= = = = = = = = = = = = = = = = = = = = = = = = = = = = = = \n"
     ]
    },
    {
     "name": "stderr",
     "output_type": "stream",
     "text": [
      "100%|██████████████████████████████████████████████████████████████| 800/800 [00:08<00:00, 90.76it/s]\n"
     ]
    },
    {
     "name": "stdout",
     "output_type": "stream",
     "text": [
      "KNN Metric: Euclidean Accuracy: 0.6225 \n"
     ]
    },
    {
     "name": "stderr",
     "output_type": "stream",
     "text": [
      "100%|██████████████████████████████████████████████████████████████| 800/800 [00:08<00:00, 91.23it/s]\n"
     ]
    },
    {
     "name": "stdout",
     "output_type": "stream",
     "text": [
      "KNN Metric: Euclidean Accuracy: 0.60375 \n"
     ]
    },
    {
     "name": "stderr",
     "output_type": "stream",
     "text": [
      "100%|██████████████████████████████████████████████████████████████| 800/800 [00:09<00:00, 86.94it/s]\n"
     ]
    },
    {
     "name": "stdout",
     "output_type": "stream",
     "text": [
      "KNN Metric: Euclidean Accuracy: 0.595 \n"
     ]
    },
    {
     "name": "stderr",
     "output_type": "stream",
     "text": [
      "100%|██████████████████████████████████████████████████████████████| 800/800 [00:09<00:00, 85.69it/s]\n"
     ]
    },
    {
     "name": "stdout",
     "output_type": "stream",
     "text": [
      "KNN Metric: Euclidean Accuracy: 0.58375 \n"
     ]
    },
    {
     "name": "stderr",
     "output_type": "stream",
     "text": [
      "100%|██████████████████████████████████████████████████████████████| 800/800 [00:09<00:00, 87.65it/s]\n"
     ]
    },
    {
     "name": "stdout",
     "output_type": "stream",
     "text": [
      "KNN Metric: Euclidean Accuracy: 0.58875 \n"
     ]
    },
    {
     "name": "stderr",
     "output_type": "stream",
     "text": [
      "100%|██████████████████████████████████████████████████████████████| 800/800 [00:08<00:00, 90.23it/s]\n"
     ]
    },
    {
     "name": "stdout",
     "output_type": "stream",
     "text": [
      "KNN Metric: Euclidean Accuracy: 0.6025 \n"
     ]
    },
    {
     "name": "stderr",
     "output_type": "stream",
     "text": [
      "100%|██████████████████████████████████████████████████████████████| 800/800 [00:08<00:00, 92.03it/s]\n"
     ]
    },
    {
     "name": "stdout",
     "output_type": "stream",
     "text": [
      "KNN Metric: Euclidean Accuracy: 0.63 \n"
     ]
    },
    {
     "name": "stderr",
     "output_type": "stream",
     "text": [
      "100%|██████████████████████████████████████████████████████████████| 800/800 [00:08<00:00, 91.53it/s]\n"
     ]
    },
    {
     "name": "stdout",
     "output_type": "stream",
     "text": [
      "KNN Metric: Euclidean Accuracy: 0.6175 \n"
     ]
    },
    {
     "name": "stderr",
     "output_type": "stream",
     "text": [
      "100%|██████████████████████████████████████████████████████████████| 800/800 [00:09<00:00, 88.16it/s]\n"
     ]
    },
    {
     "name": "stdout",
     "output_type": "stream",
     "text": [
      "KNN Metric: Euclidean Accuracy: 0.6125 \n"
     ]
    },
    {
     "name": "stderr",
     "output_type": "stream",
     "text": [
      "100%|██████████████████████████████████████████████████████████████| 800/800 [00:09<00:00, 86.00it/s]"
     ]
    },
    {
     "name": "stdout",
     "output_type": "stream",
     "text": [
      "KNN Metric: Euclidean Accuracy: 0.615 \n",
      "= = = = = = = = = = = = = = = = = = = = = = = = = = = = = = \n"
     ]
    },
    {
     "name": "stderr",
     "output_type": "stream",
     "text": [
      "\n"
     ]
    }
   ],
   "source": [
    "fold_model_record[0][0][0].predict(X_test)\n",
    "k_fold = []\n",
    "for k in fold_model_record:\n",
    "    classifier_acc_mean = []\n",
    "    for classifier in k:\n",
    "        arr = [c.predict(X_test) for c in classifier]\n",
    "        mean_preds = np.mean(arr, axis=0)\n",
    "        mean_acc = classifier[0].accuracy(mean_preds, y_test)\n",
    "        classifier_acc_mean.append(mean_acc)\n",
    "    k_fold.append(classifier_acc_mean)\n",
    "    print('= '*30)"
   ]
  },
  {
   "cell_type": "code",
   "execution_count": 53,
   "id": "d45de193",
   "metadata": {},
   "outputs": [],
   "source": [
    "k_fold.insert(0, acc_list)"
   ]
  },
  {
   "cell_type": "code",
   "execution_count": 54,
   "id": "25a51b44",
   "metadata": {},
   "outputs": [],
   "source": [
    "k_fold = np.array(k_fold).T"
   ]
  },
  {
   "cell_type": "code",
   "execution_count": 55,
   "id": "0ef6722d",
   "metadata": {},
   "outputs": [
    {
     "data": {
      "image/png": "[encoded data removed]",
      "text/plain": [
       "<Figure size 1000x600 with 1 Axes>"
      ]
     },
     "metadata": {},
     "output_type": "display_data"
    }
   ],
   "source": [
    "k = ['origin', '3-fold', '5-fold', '10-fold']\n",
    "classifiers = ['Perceptron', 'K-NN', 'Naïve Decision Tree', 'Decision Tree with Pruning']\n",
    "\n",
    "acc = {classifier: k_fold[idx] for idx, classifier in enumerate(classifiers)}\n",
    "\n",
    "x = np.arange(len(k))\n",
    "width = 0.2\n",
    "multiplier = 0\n",
    "\n",
    "fig, ax = plt.subplots()\n",
    "fig.set_size_inches(10, 6)\n",
    "\n",
    "for attribute, measurement in acc.items():\n",
    "    offset = width * multiplier\n",
    "    rects = ax.bar(x + offset, measurement, width, label=attribute)\n",
    "    ax.bar_label(rects, padding=3, fmt='%.2f')\n",
    "    multiplier += 1\n",
    "\n",
    "ax.set_ylim(0.5, 0.8)\n",
    "ax.set_ylabel('Accuracy')\n",
    "ax.set_title('Compare performance')\n",
    "ax.set_xticks(x + width * 1.5)\n",
    "ax.set_xticklabels(k)\n",
    "ax.legend(loc='upper right')\n",
    "\n",
    "plt.show()\n"
   ]
  },
  {
   "cell_type": "markdown",
   "id": "ec80e8da",
   "metadata": {},
   "source": [
    "## 3-3 Show better"
   ]
  },
  {
   "cell_type": "code",
   "execution_count": 56,
   "id": "f74c38eb",
   "metadata": {
    "scrolled": true
   },
   "outputs": [
    {
     "name": "stderr",
     "output_type": "stream",
     "text": [
      "invalid value encountered in scalar divide\n",
      "100%|██████████████████████████████████████████████████████████████| 800/800 [00:08<00:00, 99.92it/s]\n"
     ]
    },
    {
     "name": "stdout",
     "output_type": "stream",
     "text": [
      "KNN Metric: Euclidean Accuracy: 0.59375 \n"
     ]
    },
    {
     "name": "stderr",
     "output_type": "stream",
     "text": [
      "100%|█████████████████████████████████████████████████████████████| 800/800 [00:07<00:00, 101.24it/s]\n"
     ]
    },
    {
     "name": "stdout",
     "output_type": "stream",
     "text": [
      "KNN Metric: Euclidean Accuracy: 0.60875 \n"
     ]
    },
    {
     "name": "stderr",
     "output_type": "stream",
     "text": [
      "100%|██████████████████████████████████████████████████████████████| 800/800 [00:08<00:00, 98.47it/s]\n"
     ]
    },
    {
     "name": "stdout",
     "output_type": "stream",
     "text": [
      "KNN Metric: Euclidean Accuracy: 0.59375 \n"
     ]
    },
    {
     "name": "stderr",
     "output_type": "stream",
     "text": [
      "100%|██████████████████████████████████████████████████████████████| 800/800 [00:08<00:00, 98.13it/s]\n"
     ]
    },
    {
     "name": "stdout",
     "output_type": "stream",
     "text": [
      "KNN Metric: Euclidean Accuracy: 0.615 \n"
     ]
    },
    {
     "name": "stderr",
     "output_type": "stream",
     "text": [
      "100%|█████████████████████████████████████████████████████████████| 800/800 [00:07<00:00, 101.27it/s]\n",
      "invalid value encountered in scalar divide\n",
      "invalid value encountered in scalar divide\n"
     ]
    },
    {
     "name": "stdout",
     "output_type": "stream",
     "text": [
      "KNN Metric: Euclidean Accuracy: 0.61 \n"
     ]
    }
   ],
   "source": [
    "classifier_f1_mean = []\n",
    "for models in fold_model_record[1]:\n",
    "    arr = [model.predict(X_test) for model in models]\n",
    "    mean_preds = np.mean(arr, axis=0)\n",
    "    mean_acc = models[0].f1_score(mean_preds, y_test)\n",
    "    classifier_f1_mean.append(mean_acc)"
   ]
  },
  {
   "cell_type": "code",
   "execution_count": 57,
   "id": "22bc9c19",
   "metadata": {},
   "outputs": [
    {
     "name": "stdout",
     "output_type": "stream",
     "text": [
      "F1_score : Before: 0.59625 After: 0.61875\n"
     ]
    }
   ],
   "source": [
    "print('F1_score : Before:', acc_list[2], 'After:', accuracy)"
   ]
  }
 ],
 "metadata": {
  "kernelspec": {
   "display_name": "Python 3 (ipykernel)",
   "language": "python",
   "name": "python3"
  },
  "language_info": {
   "codemirror_mode": {
    "name": "ipython",
    "version": 3
   },
   "file_extension": ".py",
   "mimetype": "text/x-python",
   "name": "python",
   "nbconvert_exporter": "python",
   "pygments_lexer": "ipython3",
   "version": "3.11.4"
  }
 },
 "nbformat": 4,
 "nbformat_minor": 5
}
