{
 "cells": [
  {
   "cell_type": "markdown",
   "id": "0f315ac8",
   "metadata": {},
   "source": [
    "# 1. Import"
   ]
  },
  {
   "cell_type": "code",
   "execution_count": 1,
   "id": "5f587674",
   "metadata": {},
   "outputs": [],
   "source": [
    "import re\n",
    "import numpy as np\n",
    "import pandas as pd\n",
    "import matplotlib.pyplot as plt\n",
    "\n",
    "from tqdm import tqdm\n",
    "from numba import jit"
   ]
  },
  {
   "cell_type": "markdown",
   "id": "2c3fdbfa",
   "metadata": {},
   "source": [
    "# 2. Preprocessing & Feature EDA"
   ]
  },
  {
   "cell_type": "code",
   "execution_count": 2,
   "id": "2fca9fff",
   "metadata": {
    "scrolled": true
   },
   "outputs": [],
   "source": [
    "df = pd.read_csv(\"archive/train.csv\")\n",
    "# df.head()"
   ]
  },
  {
   "cell_type": "code",
   "execution_count": 3,
   "id": "8fc9e673",
   "metadata": {},
   "outputs": [],
   "source": [
    "df=df.drop('policy_id', axis=1)"
   ]
  },
  {
   "cell_type": "code",
   "execution_count": 4,
   "id": "91360061",
   "metadata": {},
   "outputs": [],
   "source": [
    "df['torque'] = df['max_torque'].apply(lambda x: re.findall(r'\\d+\\.?\\d*(?=Nm)', x)[0])\n",
    "df['rpm'] = df['max_torque'].apply(lambda x: re.findall(r'\\d+\\.?\\d*(?=rpm)', x)[0])\n",
    "\n",
    "df['torque'] = pd.to_numeric(df['torque'])\n",
    "df['rpm'] = pd.to_numeric(df['rpm'])\n",
    "\n",
    "df['torque_rpm'] = df['torque'] / df['rpm']"
   ]
  },
  {
   "cell_type": "code",
   "execution_count": 5,
   "id": "0d656b65",
   "metadata": {},
   "outputs": [],
   "source": [
    "df.drop('max_torque', axis=1,inplace=True)\n",
    "df.drop('rpm',axis=1,inplace=True)\n",
    "df.drop('torque',axis=1,inplace=True)"
   ]
  },
  {
   "cell_type": "code",
   "execution_count": 6,
   "id": "9d927ae2",
   "metadata": {},
   "outputs": [],
   "source": [
    "df['power'] = df['max_power'].apply(lambda x: re.findall(r'\\d+\\.?\\d*(?=bhp)', x)[0])\n",
    "df['rpm'] = df['max_power'].apply(lambda x: re.findall(r'\\d+', x)[-1])\n",
    "\n",
    "df['power'] = pd.to_numeric(df['power'])\n",
    "df['rpm'] = pd.to_numeric(df['rpm'])\n",
    "\n",
    "df['power_rpm'] = df['power'] / df['rpm']"
   ]
  },
  {
   "cell_type": "code",
   "execution_count": 7,
   "id": "48639f65",
   "metadata": {},
   "outputs": [],
   "source": [
    "df.drop('power', axis=1,inplace=True)\n",
    "df.drop('rpm',axis=1,inplace=True)\n",
    "df.drop('max_power',axis=1,inplace=True)"
   ]
  },
  {
   "cell_type": "code",
   "execution_count": 8,
   "id": "7c463c41",
   "metadata": {},
   "outputs": [],
   "source": [
    "df = df.replace({ \"No\" : 0 , \"Yes\" : 1 })"
   ]
  },
  {
   "cell_type": "code",
   "execution_count": 9,
   "id": "ee102dea",
   "metadata": {},
   "outputs": [],
   "source": [
    "dataset_num_col = df.select_dtypes(include=['int', 'float', 'bool']).columns"
   ]
  },
  {
   "cell_type": "code",
   "execution_count": 10,
   "id": "09ddab17",
   "metadata": {},
   "outputs": [],
   "source": [
    "dataset_cat_cols = df.select_dtypes(include=['object']).columns"
   ]
  },
  {
   "cell_type": "code",
   "execution_count": 11,
   "id": "8cc894cb",
   "metadata": {},
   "outputs": [],
   "source": [
    "df= pd.get_dummies(df, columns=dataset_cat_cols,drop_first=True)"
   ]
  },
  {
   "cell_type": "code",
   "execution_count": 12,
   "id": "281689ff",
   "metadata": {},
   "outputs": [],
   "source": [
    "df_0 = df[df['is_claim'] == 0].sample(n=5000, random_state=42)\n",
    "df_1 = df[df['is_claim'] == 1].sample(n=3000, random_state=42)\n",
    "\n",
    "df = pd.concat([df_0, df_1], ignore_index=True)"
   ]
  },
  {
   "cell_type": "code",
   "execution_count": 13,
   "id": "0353bab4",
   "metadata": {},
   "outputs": [],
   "source": [
    "df = df.sample(frac=1, random_state=42, ignore_index=True)"
   ]
  },
  {
   "cell_type": "code",
   "execution_count": 14,
   "id": "23f1cfa9",
   "metadata": {},
   "outputs": [],
   "source": [
    "_df = df.copy()"
   ]
  },
  {
   "cell_type": "code",
   "execution_count": 15,
   "id": "4525a2e0",
   "metadata": {
    "scrolled": true
   },
   "outputs": [],
   "source": [
    "def normalize(column):\n",
    "    min_val = column.min()\n",
    "    max_val = column.max()\n",
    "    normalized_column = (column - min_val) / (max_val - min_val)\n",
    "    return normalized_column\n",
    "\n",
    "for column in dataset_num_col:\n",
    "    df[column] = normalize(df[column])"
   ]
  },
  {
   "cell_type": "code",
   "execution_count": 16,
   "id": "b75ed218",
   "metadata": {},
   "outputs": [],
   "source": [
    "X = df.drop(columns = \"is_claim\")\n",
    "y = df[\"is_claim\"]"
   ]
  },
  {
   "cell_type": "code",
   "execution_count": 17,
   "id": "a2bcff9b",
   "metadata": {},
   "outputs": [],
   "source": [
    "X_train = np.array(X.iloc[:int(X.shape[0]*0.8), :], dtype='float64')\n",
    "X_val = np.array(X.iloc[int(X.shape[0]-X.shape[0]*0.2):int(X.shape[0]-X.shape[0]*0.1), :], dtype='float64')\n",
    "X_test = np.array(X.iloc[-int(X.shape[0]*0.1):, :], dtype='float64')\n",
    "\n",
    "y_train = np.array(y[:int(X.shape[0]*0.8)], dtype='float64')\n",
    "y_val = np.array(y[int(X.shape[0]-X.shape[0]*0.2):int(X.shape[0]-X.shape[0]*0.1)], dtype='float64')\n",
    "y_test = np.array(y[-int(X.shape[0]*0.1):], dtype='float64')"
   ]
  },
  {
   "cell_type": "code",
   "execution_count": 18,
   "id": "c75700d7",
   "metadata": {},
   "outputs": [],
   "source": [
    "X_train2 = X_train.copy()\n",
    "X_val2 = X_val.copy()\n",
    "X_test2 = X_test.copy()\n",
    "\n",
    "y_train2 = y_train.copy()\n",
    "y_val2 = y_val.copy()\n",
    "y_test2 = y_test.copy()"
   ]
  },
  {
   "cell_type": "markdown",
   "id": "e388bf54",
   "metadata": {},
   "source": [
    "# 1.Kernel Methods in Ensemble Learning:"
   ]
  },
  {
   "cell_type": "code",
   "execution_count": 19,
   "id": "829254e9",
   "metadata": {},
   "outputs": [],
   "source": [
    "class Perceptron:\n",
    "    def __init__(self, lr=0.01, eps=50, gamma = 0.1):\n",
    "        self.lr = lr\n",
    "        self.eps = eps\n",
    "        self.gamma = gamma\n",
    "        self.w = None\n",
    "        self.b = None\n",
    "        self.Training = []\n",
    "        self.Validation = []\n",
    "\n",
    "    def fit(self, X_train, X_val, y_train, y_val):\n",
    "        self.X_train = self.rbf_kernel(X_train, X_train)\n",
    "        num_samples, num_features = self.X_train.shape\n",
    "        self.w = np.zeros(num_features)\n",
    "        self.b = 0\n",
    "\n",
    "        for ep in tqdm(range(self.eps)):\n",
    "            y_train_pred = self.predict(X_train)\n",
    "            acc = self.accuracy(y_train_pred, y_train)\n",
    "            loss = self.loss(y_train_pred, y_train)\n",
    "            self.Training.append(loss)\n",
    "            \n",
    "            y_val_pred = self.predict(X_val)\n",
    "            acc_val = self.accuracy(y_val_pred, y_val)\n",
    "            loss_val = self.loss(y_val_pred, y_val)\n",
    "            self.Validation.append(loss_val)\n",
    "            \n",
    "            dw = (1 / num_samples) * np.dot(self.X_train.T, (y_train_pred - y_train))\n",
    "            db = (1 / num_samples) * np.sum(y_train_pred - y_train)\n",
    "            self.w = self.w - self.lr * dw\n",
    "            self.b = self.b - self.lr * db\n",
    "        print(f'Perceptron Accuracy: {acc}, Loss: {loss} ')\n",
    "\n",
    "    def rbf_kernel(self, X1, X2):\n",
    "        pairwise_dists = np.sum(X1**2, axis=1)[:, np.newaxis] + np.sum(X2**2, axis=1) - 2 * np.dot(X1, X2.T)\n",
    "        return np.exp(-self.gamma * pairwise_dists)\n",
    "        \n",
    "    def predict(self, x):\n",
    "        x = self.rbf_kernel(x, X_train)\n",
    "        lm = np.dot(x, self.w) + self.b\n",
    "        y_pred = self.sigmoid(lm)\n",
    "        return y_pred\n",
    "    \n",
    "    def accuracy(self, y_pred, y_true):\n",
    "        return np.sum((y_pred > 0.5).astype(int) == y_true) / len(y_true)\n",
    "    \n",
    "    def loss(self, y_pred, y_true):\n",
    "        return np.mean(- (y_true * np.log(y_pred + 1e-15) + (1 - y_true) * np.log(1 - y_pred + 1e-15)))\n",
    "    \n",
    "    def sigmoid(self, x):\n",
    "        return 1 / (1 + np.exp(-x))\n",
    "    \n",
    "    def acc_loss_plot(self):\n",
    "        plt.plot(self.Training, label='Training', marker='o')\n",
    "        plt.plot(self.Validation, label='Validation', marker='x')\n",
    "        plt.title('Training and Validation Loss')\n",
    "        plt.xlabel('Epoch')\n",
    "        plt.ylabel('Value')\n",
    "        \n",
    "        plt.legend()\n",
    "        plt.show()"
   ]
  },
  {
   "cell_type": "code",
   "execution_count": 20,
   "id": "a545d519",
   "metadata": {
    "scrolled": false
   },
   "outputs": [
    {
     "name": "stderr",
     "output_type": "stream",
     "text": [
      "100%|████████████████████████████████████████████████████████████████| 50/50 [00:37<00:00,  1.35it/s]\n"
     ]
    },
    {
     "name": "stdout",
     "output_type": "stream",
     "text": [
      "Perceptron Accuracy: 0.62640625, Loss: 0.6602384835970798 \n"
     ]
    },
    {
     "data": {
      "image/png": "[encoded data removed]",
      "text/plain": [
       "<Figure size 640x480 with 1 Axes>"
      ]
     },
     "metadata": {},
     "output_type": "display_data"
    }
   ],
   "source": [
    "perceptron = Perceptron()\n",
    "perceptron.fit(X_train, X_val, y_train, y_val)\n",
    "# Train\n",
    "y_pred = perceptron.predict(X_train)\n",
    "accuracy = perceptron.accuracy(y_pred, y_train)\n",
    "# Val\n",
    "y_pred = perceptron.predict(X_val)\n",
    "accuracy = perceptron.accuracy(y_pred, y_val)\n",
    "perceptron.acc_loss_plot()"
   ]
  },
  {
   "cell_type": "code",
   "execution_count": 21,
   "id": "34c18175",
   "metadata": {
    "scrolled": true
   },
   "outputs": [
    {
     "name": "stderr",
     "output_type": "stream",
     "text": [
      "100%|████████████████████████████████████████████████████████████████| 50/50 [00:38<00:00,  1.30it/s]\n"
     ]
    },
    {
     "name": "stdout",
     "output_type": "stream",
     "text": [
      "Perceptron Accuracy: 0.62640625, Loss: 0.6602384835970798 \n"
     ]
    },
    {
     "name": "stderr",
     "output_type": "stream",
     "text": [
      "100%|████████████████████████████████████████████████████████████████| 50/50 [00:38<00:00,  1.29it/s]\n"
     ]
    },
    {
     "name": "stdout",
     "output_type": "stream",
     "text": [
      "Perceptron Accuracy: 0.62640625, Loss: 0.6602934640242256 \n"
     ]
    },
    {
     "name": "stderr",
     "output_type": "stream",
     "text": [
      "100%|████████████████████████████████████████████████████████████████| 50/50 [00:39<00:00,  1.27it/s]"
     ]
    },
    {
     "name": "stdout",
     "output_type": "stream",
     "text": [
      "Perceptron Accuracy: 0.62640625, Loss: 0.6603480920567957 \n",
      "Final Perceptron Accuracy: 0.61125, Loss: 13.426949323521528 \n"
     ]
    },
    {
     "name": "stderr",
     "output_type": "stream",
     "text": [
      "\n"
     ]
    }
   ],
   "source": [
    "gamma = 0.01\n",
    "pred = list()\n",
    "model = list()\n",
    "for i in range(3):\n",
    "    lm = None\n",
    "    lm = Perceptron(gamma)\n",
    "    lm.fit(X_train, X_val, y_train, y_val)\n",
    "    pred.append(lm.predict(X_test))\n",
    "    model.append(lm)\n",
    "    gamma*=0.95\n",
    "    \n",
    "# 進行多數決投票\n",
    "voting_result = np.sum(pred, axis=0)\n",
    "\n",
    "# 最終預測結果是票數最多的類別\n",
    "y_pred = np.where(voting_result >= (len(pred) / 2), 1, 0)\n",
    "acc = model[0].accuracy(y_pred, y_test)\n",
    "loss = model[0].loss(y_pred, y_test)\n",
    "print(f'Final Perceptron Accuracy: {acc}, Loss: {loss} ')"
   ]
  },
  {
   "cell_type": "markdown",
   "id": "d64ae9b3",
   "metadata": {},
   "source": [
    "# 2.Ensemble of Deep Learning-Based Non-Tree Weak Learners:"
   ]
  },
  {
   "cell_type": "code",
   "execution_count": 22,
   "id": "b5f7a77b",
   "metadata": {},
   "outputs": [],
   "source": [
    "class MLP:\n",
    "    def __init__(self, in_size, hid_size, out_size):\n",
    "        self.w1 = np.random.randn(in_size, hid_size)\n",
    "        self.b1 = np.zeros((1, hid_size))\n",
    "        self.w2 = np.random.randn(hid_size, out_size)\n",
    "        self.b2 = np.zeros((1, out_size))\n",
    "\n",
    "    def forward(self, X):\n",
    "        self.z1 = np.dot(X, self.w1) + self.b1\n",
    "        self.a1 = self.relu(self.z1)\n",
    "        self.z2 = np.dot(self.a1, self.w2) + self.b2\n",
    "        self.a2 = self.softmax(self.z2)\n",
    "        return self.a2\n",
    "\n",
    "    def relu(self, x):\n",
    "        return np.maximum(0, x)\n",
    "\n",
    "    def softmax(self, x):\n",
    "        exp_scores = np.exp(x - np.max(x, axis=1, keepdims=True))\n",
    "        return exp_scores / np.sum(exp_scores, axis=1, keepdims=True)\n",
    "\n",
    "    def fit(self, X, y, lr=0.01, eps=100):\n",
    "        for ep in range(eps):\n",
    "            out = self.forward(X)\n",
    "            loss = self.cross_entropy_loss(out, y)\n",
    "            self.backward(X, y, out, lr)\n",
    "\n",
    "            if ep % 100 == 0:\n",
    "                print(f'Epoch {ep}, Loss: {loss}')\n",
    "\n",
    "    def cross_entropy_loss(self, out, y):\n",
    "        m = y.shape[0]\n",
    "        log_likelihood = -np.log(out[range(m), y.astype(int)])\n",
    "        return np.sum(log_likelihood) / m\n",
    "\n",
    "    def backward(self, X, y, out, lr):\n",
    "        m = y.shape[0]\n",
    "        dZ2 = out\n",
    "        dZ2[range(m), y.astype(int)] -= 1\n",
    "        dZ2 /= m\n",
    "\n",
    "        dW2 = np.dot(self.a1.T, dZ2)\n",
    "        db2 = np.sum(dZ2, axis=0, keepdims=True)\n",
    "\n",
    "        dZ1 = np.dot(dZ2, self.w2.T)\n",
    "        dZ1[self.z1 <= 0] = 0\n",
    "        dW1 = np.dot(X.T, dZ1)\n",
    "        db1 = np.sum(dZ1, axis=0, keepdims=True)\n",
    "\n",
    "        self.w2 -= lr * dW2\n",
    "        self.b2 -= lr * db2\n",
    "        self.w1 -= lr * dW1\n",
    "        self.b1 -= lr * db1\n",
    "\n",
    "class DeepRandomForest:\n",
    "    def __init__(self, num_trees, num_feats, num_inst, num_cls):\n",
    "        self.num_trees = num_trees\n",
    "        self.num_feats = num_feats\n",
    "        self.num_inst = num_inst\n",
    "        self.num_cls = num_cls\n",
    "        self.trees = []\n",
    "\n",
    "    def fit(self, X, y, eps=100):\n",
    "        for _ in range(self.num_trees):\n",
    "            sel_feats = np.random.choice(X.shape[1], self.num_feats, replace=False)\n",
    "            sel_inst = np.random.choice(X.shape[0], self.num_inst, replace=False)\n",
    "            X_sub = X[sel_inst][:, sel_feats]\n",
    "            y_sub = y[sel_inst]\n",
    "\n",
    "            mlp = MLP(self.num_feats, hid_size=64, out_size=self.num_cls)\n",
    "            mlp.fit(X_sub, y_sub, eps=eps)\n",
    "            self.trees.append(mlp)\n",
    "\n",
    "    def predict(self, X):\n",
    "        preds = np.zeros((X.shape[0], self.num_cls))\n",
    "\n",
    "        for tree in self.trees:\n",
    "            tree_out = tree.forward(X[:, :self.num_feats])\n",
    "            preds += tree_out\n",
    "\n",
    "        final_preds = preds / self.num_trees\n",
    "        return (final_preds >= 0.5).astype(int)\n",
    "    \n",
    "    def accuracy(self, y_pred, y_true):\n",
    "        return np.sum(np.argmax(y_pred) == y_true) / len(y_true)"
   ]
  },
  {
   "cell_type": "code",
   "execution_count": 23,
   "id": "826547fe",
   "metadata": {},
   "outputs": [
    {
     "name": "stdout",
     "output_type": "stream",
     "text": [
      "Epoch 0, Loss: 6.119890527325464\n",
      "Epoch 0, Loss: 2.525475893312856\n",
      "Epoch 0, Loss: 10.718871155951412\n",
      "Epoch 0, Loss: 4.147299838886433\n",
      "Epoch 0, Loss: 8.6909452758798\n",
      "Final Perceptron Accuracy: 0.61125\n"
     ]
    }
   ],
   "source": [
    "deep_random_forest = DeepRandomForest(num_trees=5, num_feats=10, num_inst=50, num_cls=2)\n",
    "deep_random_forest.fit(X_train, y_train)\n",
    "y_test_pred = deep_random_forest.predict(X_test)\n",
    "acc = deep_random_forest.accuracy(y_test_pred, y_test)\n",
    "print(f\"Final Perceptron Accuracy: {acc}\")"
   ]
  },
  {
   "cell_type": "code",
   "execution_count": 24,
   "id": "4812ab0d",
   "metadata": {},
   "outputs": [],
   "source": [
    "class Node:\n",
    "    def __init__(self, predicted_class):\n",
    "        self.predicted_class = predicted_class\n",
    "        self.feature_index = 0\n",
    "        self.threshold = 0\n",
    "        self.left = None\n",
    "        self.right = None\n",
    "\n",
    "class DecisionTreeClassifier:\n",
    "    def __init__(self, max_depth=5):\n",
    "        self.max_depth = max_depth\n",
    "\n",
    "    def fit(self, X, y):\n",
    "        self.num_classes = len(set(y))\n",
    "        self.num_features = X.shape[1]\n",
    "        self.tree = self._build_tree(X, y)\n",
    "\n",
    "    def _calculate_gini(self, y):\n",
    "        m = len(y)\n",
    "        if m == 0:\n",
    "            return 0\n",
    "\n",
    "        gini = 1.0\n",
    "        for c in range(self.num_classes):\n",
    "            p = np.sum(y == c) / m\n",
    "            gini -= p**2\n",
    "\n",
    "        return gini\n",
    "\n",
    "    def _best_split(self, X, y):\n",
    "        m, n = X.shape\n",
    "        if m <= 1:\n",
    "            return None, None\n",
    "\n",
    "        num_parent = [np.sum(y == c) for c in range(self.num_classes)]\n",
    "        best_gini = 1.0 - sum((n / m) * (num / m)**2 for num in num_parent)\n",
    "        best_idx, best_thr = None, None\n",
    "\n",
    "        for idx in range(self.num_features):\n",
    "            thresholds, classes = zip(*sorted(zip(X[:, idx], y)))\n",
    "            num_left = [0] * self.num_classes\n",
    "            num_right = num_parent.copy()\n",
    "\n",
    "            for i in range(1, m):\n",
    "                c = int(classes[i - 1])\n",
    "                num_left[c] += 1.0\n",
    "                num_right[c] -= 1.0\n",
    "                gini_left = 1.0 - sum((num_left[x] / i)**2 for x in range(self.num_classes))\n",
    "                gini_right = 1.0 - sum((num_right[x] / (m - i))**2 for x in range(self.num_classes))\n",
    "                gini = (i * gini_left + (m - i) * gini_right) / m\n",
    "\n",
    "                if thresholds[i] == thresholds[i - 1]:\n",
    "                    continue\n",
    "\n",
    "                if gini < best_gini:\n",
    "                    best_gini = gini\n",
    "                    best_idx = idx\n",
    "                    best_thr = (thresholds[i] + thresholds[i - 1]) / 2\n",
    "\n",
    "        return best_idx, best_thr\n",
    "\n",
    "    def _build_tree(self, X, y, depth=0):\n",
    "        num_samples_per_class = [np.sum(y == i) for i in range(self.num_classes)]\n",
    "        predicted_class = np.argmax(num_samples_per_class)\n",
    "        node = Node(predicted_class=predicted_class)\n",
    "        \n",
    "        if depth < self.max_depth:\n",
    "            idx, thr = self._best_split(X, y)\n",
    "            if idx is not None:\n",
    "                indices_left = X[:, idx] < thr\n",
    "                X_left, y_left = X[indices_left], y[indices_left]\n",
    "                X_right, y_right = X[~indices_left], y[~indices_left]\n",
    "                node.feature_index = idx\n",
    "                node.threshold = thr\n",
    "                node.left = self._build_tree(X_left, y_left, depth + 1)\n",
    "                node.right = self._build_tree(X_right, y_right, depth + 1)\n",
    "\n",
    "        return node\n",
    "\n",
    "    def predict(self, X):\n",
    "        y_pred = np.array([self._predict(inputs) for inputs in X])\n",
    "        return y_pred\n",
    "\n",
    "    def _predict(self, inputs):\n",
    "        node = self.tree\n",
    "        while node.left:\n",
    "            if inputs[node.feature_index] < node.threshold:\n",
    "                node = node.left\n",
    "            else:\n",
    "                node = node.right\n",
    "        return node.predicted_class\n",
    "    \n",
    "    def accuracy(self, y_pred, y_true):\n",
    "        return np.sum((y_pred > 0.5).astype(int) == y_true) / len(y_true)\n",
    "\n",
    "class RandomForest:\n",
    "    def __init__(self, num_trees, num_feats, num_inst, num_cls):\n",
    "        self.num_trees = num_trees\n",
    "        self.num_feats = num_feats\n",
    "        self.num_inst = num_inst\n",
    "        self.num_cls = num_cls\n",
    "        self.trees = []\n",
    "\n",
    "    def fit(self, X, y):\n",
    "        for _ in range(self.num_trees):\n",
    "            sel_feats = np.random.choice(X.shape[1], self.num_feats, replace=False)\n",
    "            sel_inst = np.random.choice(X.shape[0], self.num_inst, replace=False)\n",
    "            X_sub = X[sel_inst][:, sel_feats]\n",
    "            y_sub = y[sel_inst]\n",
    "\n",
    "            tree = DecisionTreeClassifier()\n",
    "            tree.fit(X_sub, y_sub)\n",
    "            self.trees.append(tree)\n",
    "\n",
    "    def predict(self, X):\n",
    "        preds = np.zeros((X.shape[0]))\n",
    "\n",
    "        for tree in self.trees:\n",
    "            tree_out = tree.predict(X[:, :self.num_feats])\n",
    "            preds += tree_out\n",
    "\n",
    "        final_preds = preds / self.num_trees\n",
    "        return (final_preds >= 0.5).astype(int)\n",
    "    \n",
    "    def accuracy(self, y_pred, y_true):\n",
    "        return np.sum(np.argmax(y_pred) == y_true) / len(y_true)"
   ]
  },
  {
   "cell_type": "code",
   "execution_count": 25,
   "id": "090a5814",
   "metadata": {},
   "outputs": [
    {
     "name": "stdout",
     "output_type": "stream",
     "text": [
      "Final Perceptron Accuracy: 0.61125\n"
     ]
    }
   ],
   "source": [
    "random_forest = RandomForest(num_trees=5, num_feats=10, num_inst=50, num_cls=2)\n",
    "random_forest.fit(X_train, y_train)\n",
    "y_test_pred = random_forest.predict(X_test)\n",
    "acc = random_forest.accuracy(y_test_pred, y_test)\n",
    "print(f\"Final Perceptron Accuracy: {acc}\")"
   ]
  },
  {
   "cell_type": "code",
   "execution_count": null,
   "id": "3d0cb5e1",
   "metadata": {},
   "outputs": [],
   "source": []
  }
 ],
 "metadata": {
  "kernelspec": {
   "display_name": "Python 3 (ipykernel)",
   "language": "python",
   "name": "python3"
  },
  "language_info": {
   "codemirror_mode": {
    "name": "ipython",
    "version": 3
   },
   "file_extension": ".py",
   "mimetype": "text/x-python",
   "name": "python",
   "nbconvert_exporter": "python",
   "pygments_lexer": "ipython3",
   "version": "3.11.4"
  }
 },
 "nbformat": 4,
 "nbformat_minor": 5
}
